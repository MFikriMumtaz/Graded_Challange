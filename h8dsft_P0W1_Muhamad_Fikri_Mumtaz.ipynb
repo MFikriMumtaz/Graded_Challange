{
  "nbformat": 4,
  "nbformat_minor": 0,
  "metadata": {
    "colab": {
      "provenance": [],
      "authorship_tag": "ABX9TyMYu9ecgtuMnKsn2gY/s8lQ",
      "include_colab_link": true
    },
    "kernelspec": {
      "name": "python3",
      "display_name": "Python 3"
    },
    "language_info": {
      "name": "python"
    }
  },
  "cells": [
    {
      "cell_type": "markdown",
      "metadata": {
        "id": "view-in-github",
        "colab_type": "text"
      },
      "source": [
        "<a href=\"https://colab.research.google.com/github/MFikriMumtaz/Graded_Challange/blob/main/h8dsft_P0W1_Muhamad_Fikri_Mumtaz.ipynb\" target=\"_parent\"><img src=\"https://colab.research.google.com/assets/colab-badge.svg\" alt=\"Open In Colab\"/></a>"
      ]
    },
    {
      "cell_type": "markdown",
      "source": [
        "\n",
        "\n",
        "# Graded Challenge 1\n",
        "\n"
      ],
      "metadata": {
        "id": "BdQBT2IK8nMz"
      }
    },
    {
      "cell_type": "markdown",
      "source": [
        "Nama : Muhamad Fikri Mumtaz\n",
        "\n",
        "Batch: HCK-004"
      ],
      "metadata": {
        "id": "SWl7ERC68ptf"
      }
    },
    {
      "cell_type": "markdown",
      "source": [
        "## Deskripsi\n",
        "\n",
        "Objektif\n",
        "- Melihat jumlah, rata-rata, minimum, dan maksimum kasus Terkonfirmasi, dan Meninggal untuk penderita COVID-19 di Provinsi New York, AS pada tahun 2020 hingga 2022\n",
        "- Melihat jumlah, dan rata-rata kasus Terkonfirmasi, dan Meninggal untuk penderita COVID-19 di Provinsi New York, AS per quartil pada tahun 2020 hingga 2022\n",
        "- Membandingkan jumlah, dan rata-rata kasus Terkonfirmasi, dan Meninggal untuk penderita COVID-19 di Provinsi New York, AS pada tahun 2020, 2021, dan 2022\n",
        "- Mevisualisasikan perkembangan jumlah kasus Terkonfirmasi, dan Meninggal untuk penderita COVID-19 di Provinsi New York, AS pada tahun 2020, 2021, dan 2022\n",
        "- Mevisualisasikan trend perkembangan jumlah kasus Terkonfirmasi, dan Meninggal untuk penderita COVID-19 di Provinsi New York, AS pada tahun 2020, 2021, dan 2022 per kuartil\n",
        "\n",
        "\n",
        "Problem Statement:\n",
        "- Bagaimana trend perkembangan jumlah kasus Terkonfirmasi, dan Meninggal untuk penderita COVID-19 di Provinsi New York, AS pada tahun 2020, 2021, dan 2022?\n",
        "- Bagaimana trend perkembangan jumlah kasus Terkonfirmasi, dan Meninggal untuk penderita COVID-19 di Provinsi New York, AS pada tahun 2020, 2021, dan 2022 per kuartil?"
      ],
      "metadata": {
        "id": "M1_X9E-Q8r41"
      }
    },
    {
      "cell_type": "markdown",
      "source": [
        "### Working Area\n",
        "- Pandas untuk melakukan analisis\n",
        "- Numpy untuk melakukan perhitungan\n",
        "- Big Query untuk pengambilan data\n",
        "- Colab Google untuk tempat koding data\n",
        "- Menggunakan program language Python dan Jupyter Notebook"
      ],
      "metadata": {
        "id": "o0flbC8z8umK"
      }
    },
    {
      "cell_type": "markdown",
      "source": [
        "### Pengambilan data menggunakan Big Query\n",
        "Pengambilan data di Big Query menggunakan kode sebagai berikut:\n",
        "\n",
        "SELECT Data_Covid.country_region, Data_Covid.province_state, Data_Covid.admin2,\n",
        "Data_Covid.date, Data_Covid.confirmed, Data_Covid.deaths, Data_Covid.recovered, Data_Covid.active\n",
        "FROM `bigquery-public-data.covid19_jhu_csse_eu.summary` as Data_Covid\n",
        "WHERE Data_Covid.province_state = 'New York' AND Data_Covid.date between '2020-01-01'and '2022-12-31'\n",
        "ORDER BY date;"
      ],
      "metadata": {
        "id": "_IkwaxlP_qHL"
      }
    },
    {
      "cell_type": "markdown",
      "source": [
        "Memasukkan modul yang akan digunakan dalam analisis"
      ],
      "metadata": {
        "id": "3pJPF019RjQM"
      }
    },
    {
      "cell_type": "code",
      "execution_count": 224,
      "metadata": {
        "id": "tUwgX_ilJSCw"
      },
      "outputs": [],
      "source": [
        "import pandas as pd #memasukkan modul pandas\n",
        "import numpy as np #memasukkan modul numpy"
      ]
    },
    {
      "cell_type": "markdown",
      "source": [
        "Melakukan Data Loading dari Big Query untuk analisis data"
      ],
      "metadata": {
        "id": "8rEry0xlRvZY"
      }
    },
    {
      "cell_type": "code",
      "source": [
        "data_covid_19 = pd.read_csv('https://raw.githubusercontent.com/MFikriMumtaz/Graded_Challange/main/Covid-19%20US.csv') #memasukkan data query kedalam Python\n",
        "data_covid_19 #memuat value yang telah didefinisikan"
      ],
      "metadata": {
        "colab": {
          "base_uri": "https://localhost:8080/",
          "height": 424
        },
        "id": "mBdgeLzu0Crv",
        "outputId": "a6941bc2-5f93-450b-d964-5bffdab9a363"
      },
      "execution_count": 3,
      "outputs": [
        {
          "output_type": "execute_result",
          "data": {
            "text/plain": [
              "      country_region province_state       admin2        date  confirmed  \\\n",
              "0                 US       New York          NaN  2020-03-10        173   \n",
              "1                 US       New York          NaN  2020-03-11        220   \n",
              "2                 US       New York          NaN  2020-03-12        328   \n",
              "3                 US       New York          NaN  2020-03-13        421   \n",
              "4                 US       New York          NaN  2020-03-14        525   \n",
              "...              ...            ...          ...         ...        ...   \n",
              "64118             US       New York   Washington  2022-12-31      15401   \n",
              "64119             US       New York        Wayne  2022-12-31      21431   \n",
              "64120             US       New York  Westchester  2022-12-31     326527   \n",
              "64121             US       New York      Wyoming  2022-12-31       9785   \n",
              "64122             US       New York        Yates  2022-12-31       4353   \n",
              "\n",
              "       deaths  recovered  active  \n",
              "0           0        0.0     NaN  \n",
              "1           0        0.0     NaN  \n",
              "2           0        0.0     NaN  \n",
              "3           0        0.0     NaN  \n",
              "4           2        0.0     NaN  \n",
              "...       ...        ...     ...  \n",
              "64118     136        NaN     NaN  \n",
              "64119     201        NaN     NaN  \n",
              "64120    2929        NaN     NaN  \n",
              "64121      90        NaN     NaN  \n",
              "64122      42        NaN     NaN  \n",
              "\n",
              "[64123 rows x 8 columns]"
            ],
            "text/html": [
              "\n",
              "  <div id=\"df-41b88242-e331-4368-a0ae-184c216b9a4a\">\n",
              "    <div class=\"colab-df-container\">\n",
              "      <div>\n",
              "<style scoped>\n",
              "    .dataframe tbody tr th:only-of-type {\n",
              "        vertical-align: middle;\n",
              "    }\n",
              "\n",
              "    .dataframe tbody tr th {\n",
              "        vertical-align: top;\n",
              "    }\n",
              "\n",
              "    .dataframe thead th {\n",
              "        text-align: right;\n",
              "    }\n",
              "</style>\n",
              "<table border=\"1\" class=\"dataframe\">\n",
              "  <thead>\n",
              "    <tr style=\"text-align: right;\">\n",
              "      <th></th>\n",
              "      <th>country_region</th>\n",
              "      <th>province_state</th>\n",
              "      <th>admin2</th>\n",
              "      <th>date</th>\n",
              "      <th>confirmed</th>\n",
              "      <th>deaths</th>\n",
              "      <th>recovered</th>\n",
              "      <th>active</th>\n",
              "    </tr>\n",
              "  </thead>\n",
              "  <tbody>\n",
              "    <tr>\n",
              "      <th>0</th>\n",
              "      <td>US</td>\n",
              "      <td>New York</td>\n",
              "      <td>NaN</td>\n",
              "      <td>2020-03-10</td>\n",
              "      <td>173</td>\n",
              "      <td>0</td>\n",
              "      <td>0.0</td>\n",
              "      <td>NaN</td>\n",
              "    </tr>\n",
              "    <tr>\n",
              "      <th>1</th>\n",
              "      <td>US</td>\n",
              "      <td>New York</td>\n",
              "      <td>NaN</td>\n",
              "      <td>2020-03-11</td>\n",
              "      <td>220</td>\n",
              "      <td>0</td>\n",
              "      <td>0.0</td>\n",
              "      <td>NaN</td>\n",
              "    </tr>\n",
              "    <tr>\n",
              "      <th>2</th>\n",
              "      <td>US</td>\n",
              "      <td>New York</td>\n",
              "      <td>NaN</td>\n",
              "      <td>2020-03-12</td>\n",
              "      <td>328</td>\n",
              "      <td>0</td>\n",
              "      <td>0.0</td>\n",
              "      <td>NaN</td>\n",
              "    </tr>\n",
              "    <tr>\n",
              "      <th>3</th>\n",
              "      <td>US</td>\n",
              "      <td>New York</td>\n",
              "      <td>NaN</td>\n",
              "      <td>2020-03-13</td>\n",
              "      <td>421</td>\n",
              "      <td>0</td>\n",
              "      <td>0.0</td>\n",
              "      <td>NaN</td>\n",
              "    </tr>\n",
              "    <tr>\n",
              "      <th>4</th>\n",
              "      <td>US</td>\n",
              "      <td>New York</td>\n",
              "      <td>NaN</td>\n",
              "      <td>2020-03-14</td>\n",
              "      <td>525</td>\n",
              "      <td>2</td>\n",
              "      <td>0.0</td>\n",
              "      <td>NaN</td>\n",
              "    </tr>\n",
              "    <tr>\n",
              "      <th>...</th>\n",
              "      <td>...</td>\n",
              "      <td>...</td>\n",
              "      <td>...</td>\n",
              "      <td>...</td>\n",
              "      <td>...</td>\n",
              "      <td>...</td>\n",
              "      <td>...</td>\n",
              "      <td>...</td>\n",
              "    </tr>\n",
              "    <tr>\n",
              "      <th>64118</th>\n",
              "      <td>US</td>\n",
              "      <td>New York</td>\n",
              "      <td>Washington</td>\n",
              "      <td>2022-12-31</td>\n",
              "      <td>15401</td>\n",
              "      <td>136</td>\n",
              "      <td>NaN</td>\n",
              "      <td>NaN</td>\n",
              "    </tr>\n",
              "    <tr>\n",
              "      <th>64119</th>\n",
              "      <td>US</td>\n",
              "      <td>New York</td>\n",
              "      <td>Wayne</td>\n",
              "      <td>2022-12-31</td>\n",
              "      <td>21431</td>\n",
              "      <td>201</td>\n",
              "      <td>NaN</td>\n",
              "      <td>NaN</td>\n",
              "    </tr>\n",
              "    <tr>\n",
              "      <th>64120</th>\n",
              "      <td>US</td>\n",
              "      <td>New York</td>\n",
              "      <td>Westchester</td>\n",
              "      <td>2022-12-31</td>\n",
              "      <td>326527</td>\n",
              "      <td>2929</td>\n",
              "      <td>NaN</td>\n",
              "      <td>NaN</td>\n",
              "    </tr>\n",
              "    <tr>\n",
              "      <th>64121</th>\n",
              "      <td>US</td>\n",
              "      <td>New York</td>\n",
              "      <td>Wyoming</td>\n",
              "      <td>2022-12-31</td>\n",
              "      <td>9785</td>\n",
              "      <td>90</td>\n",
              "      <td>NaN</td>\n",
              "      <td>NaN</td>\n",
              "    </tr>\n",
              "    <tr>\n",
              "      <th>64122</th>\n",
              "      <td>US</td>\n",
              "      <td>New York</td>\n",
              "      <td>Yates</td>\n",
              "      <td>2022-12-31</td>\n",
              "      <td>4353</td>\n",
              "      <td>42</td>\n",
              "      <td>NaN</td>\n",
              "      <td>NaN</td>\n",
              "    </tr>\n",
              "  </tbody>\n",
              "</table>\n",
              "<p>64123 rows × 8 columns</p>\n",
              "</div>\n",
              "      <button class=\"colab-df-convert\" onclick=\"convertToInteractive('df-41b88242-e331-4368-a0ae-184c216b9a4a')\"\n",
              "              title=\"Convert this dataframe to an interactive table.\"\n",
              "              style=\"display:none;\">\n",
              "        \n",
              "  <svg xmlns=\"http://www.w3.org/2000/svg\" height=\"24px\"viewBox=\"0 0 24 24\"\n",
              "       width=\"24px\">\n",
              "    <path d=\"M0 0h24v24H0V0z\" fill=\"none\"/>\n",
              "    <path d=\"M18.56 5.44l.94 2.06.94-2.06 2.06-.94-2.06-.94-.94-2.06-.94 2.06-2.06.94zm-11 1L8.5 8.5l.94-2.06 2.06-.94-2.06-.94L8.5 2.5l-.94 2.06-2.06.94zm10 10l.94 2.06.94-2.06 2.06-.94-2.06-.94-.94-2.06-.94 2.06-2.06.94z\"/><path d=\"M17.41 7.96l-1.37-1.37c-.4-.4-.92-.59-1.43-.59-.52 0-1.04.2-1.43.59L10.3 9.45l-7.72 7.72c-.78.78-.78 2.05 0 2.83L4 21.41c.39.39.9.59 1.41.59.51 0 1.02-.2 1.41-.59l7.78-7.78 2.81-2.81c.8-.78.8-2.07 0-2.86zM5.41 20L4 18.59l7.72-7.72 1.47 1.35L5.41 20z\"/>\n",
              "  </svg>\n",
              "      </button>\n",
              "      \n",
              "  <style>\n",
              "    .colab-df-container {\n",
              "      display:flex;\n",
              "      flex-wrap:wrap;\n",
              "      gap: 12px;\n",
              "    }\n",
              "\n",
              "    .colab-df-convert {\n",
              "      background-color: #E8F0FE;\n",
              "      border: none;\n",
              "      border-radius: 50%;\n",
              "      cursor: pointer;\n",
              "      display: none;\n",
              "      fill: #1967D2;\n",
              "      height: 32px;\n",
              "      padding: 0 0 0 0;\n",
              "      width: 32px;\n",
              "    }\n",
              "\n",
              "    .colab-df-convert:hover {\n",
              "      background-color: #E2EBFA;\n",
              "      box-shadow: 0px 1px 2px rgba(60, 64, 67, 0.3), 0px 1px 3px 1px rgba(60, 64, 67, 0.15);\n",
              "      fill: #174EA6;\n",
              "    }\n",
              "\n",
              "    [theme=dark] .colab-df-convert {\n",
              "      background-color: #3B4455;\n",
              "      fill: #D2E3FC;\n",
              "    }\n",
              "\n",
              "    [theme=dark] .colab-df-convert:hover {\n",
              "      background-color: #434B5C;\n",
              "      box-shadow: 0px 1px 3px 1px rgba(0, 0, 0, 0.15);\n",
              "      filter: drop-shadow(0px 1px 2px rgba(0, 0, 0, 0.3));\n",
              "      fill: #FFFFFF;\n",
              "    }\n",
              "  </style>\n",
              "\n",
              "      <script>\n",
              "        const buttonEl =\n",
              "          document.querySelector('#df-41b88242-e331-4368-a0ae-184c216b9a4a button.colab-df-convert');\n",
              "        buttonEl.style.display =\n",
              "          google.colab.kernel.accessAllowed ? 'block' : 'none';\n",
              "\n",
              "        async function convertToInteractive(key) {\n",
              "          const element = document.querySelector('#df-41b88242-e331-4368-a0ae-184c216b9a4a');\n",
              "          const dataTable =\n",
              "            await google.colab.kernel.invokeFunction('convertToInteractive',\n",
              "                                                     [key], {});\n",
              "          if (!dataTable) return;\n",
              "\n",
              "          const docLinkHtml = 'Like what you see? Visit the ' +\n",
              "            '<a target=\"_blank\" href=https://colab.research.google.com/notebooks/data_table.ipynb>data table notebook</a>'\n",
              "            + ' to learn more about interactive tables.';\n",
              "          element.innerHTML = '';\n",
              "          dataTable['output_type'] = 'display_data';\n",
              "          await google.colab.output.renderOutput(dataTable, element);\n",
              "          const docLink = document.createElement('div');\n",
              "          docLink.innerHTML = docLinkHtml;\n",
              "          element.appendChild(docLink);\n",
              "        }\n",
              "      </script>\n",
              "    </div>\n",
              "  </div>\n",
              "  "
            ]
          },
          "metadata": {},
          "execution_count": 3
        }
      ]
    },
    {
      "cell_type": "code",
      "source": [
        "data_covid_19.describe().T #memuat informasi statistik dasar"
      ],
      "metadata": {
        "colab": {
          "base_uri": "https://localhost:8080/",
          "height": 175
        },
        "id": "8klpvzyY0Phs",
        "outputId": "99110453-4757-491d-b670-75f7ec2fdff1"
      },
      "execution_count": 4,
      "outputs": [
        {
          "output_type": "execute_result",
          "data": {
            "text/plain": [
              "             count          mean            std     min     25%     50%  \\\n",
              "confirmed  64123.0  45762.372004  113761.928648     0.0  1601.0  7995.0   \n",
              "deaths     64123.0    824.618047    2244.206001     0.0    37.0   111.0   \n",
              "recovered  21562.0      0.000000       0.000000     0.0     0.0     0.0   \n",
              "active     21551.0   9412.313350   26680.593609 -1059.0   127.0   604.0   \n",
              "\n",
              "               75%       max  \n",
              "confirmed  25055.0  929012.0  \n",
              "deaths       348.0   23689.0  \n",
              "recovered      0.0       0.0  \n",
              "active      3568.5  210280.0  "
            ],
            "text/html": [
              "\n",
              "  <div id=\"df-7fad71af-3704-4914-9ed9-8b672a8a9aeb\">\n",
              "    <div class=\"colab-df-container\">\n",
              "      <div>\n",
              "<style scoped>\n",
              "    .dataframe tbody tr th:only-of-type {\n",
              "        vertical-align: middle;\n",
              "    }\n",
              "\n",
              "    .dataframe tbody tr th {\n",
              "        vertical-align: top;\n",
              "    }\n",
              "\n",
              "    .dataframe thead th {\n",
              "        text-align: right;\n",
              "    }\n",
              "</style>\n",
              "<table border=\"1\" class=\"dataframe\">\n",
              "  <thead>\n",
              "    <tr style=\"text-align: right;\">\n",
              "      <th></th>\n",
              "      <th>count</th>\n",
              "      <th>mean</th>\n",
              "      <th>std</th>\n",
              "      <th>min</th>\n",
              "      <th>25%</th>\n",
              "      <th>50%</th>\n",
              "      <th>75%</th>\n",
              "      <th>max</th>\n",
              "    </tr>\n",
              "  </thead>\n",
              "  <tbody>\n",
              "    <tr>\n",
              "      <th>confirmed</th>\n",
              "      <td>64123.0</td>\n",
              "      <td>45762.372004</td>\n",
              "      <td>113761.928648</td>\n",
              "      <td>0.0</td>\n",
              "      <td>1601.0</td>\n",
              "      <td>7995.0</td>\n",
              "      <td>25055.0</td>\n",
              "      <td>929012.0</td>\n",
              "    </tr>\n",
              "    <tr>\n",
              "      <th>deaths</th>\n",
              "      <td>64123.0</td>\n",
              "      <td>824.618047</td>\n",
              "      <td>2244.206001</td>\n",
              "      <td>0.0</td>\n",
              "      <td>37.0</td>\n",
              "      <td>111.0</td>\n",
              "      <td>348.0</td>\n",
              "      <td>23689.0</td>\n",
              "    </tr>\n",
              "    <tr>\n",
              "      <th>recovered</th>\n",
              "      <td>21562.0</td>\n",
              "      <td>0.000000</td>\n",
              "      <td>0.000000</td>\n",
              "      <td>0.0</td>\n",
              "      <td>0.0</td>\n",
              "      <td>0.0</td>\n",
              "      <td>0.0</td>\n",
              "      <td>0.0</td>\n",
              "    </tr>\n",
              "    <tr>\n",
              "      <th>active</th>\n",
              "      <td>21551.0</td>\n",
              "      <td>9412.313350</td>\n",
              "      <td>26680.593609</td>\n",
              "      <td>-1059.0</td>\n",
              "      <td>127.0</td>\n",
              "      <td>604.0</td>\n",
              "      <td>3568.5</td>\n",
              "      <td>210280.0</td>\n",
              "    </tr>\n",
              "  </tbody>\n",
              "</table>\n",
              "</div>\n",
              "      <button class=\"colab-df-convert\" onclick=\"convertToInteractive('df-7fad71af-3704-4914-9ed9-8b672a8a9aeb')\"\n",
              "              title=\"Convert this dataframe to an interactive table.\"\n",
              "              style=\"display:none;\">\n",
              "        \n",
              "  <svg xmlns=\"http://www.w3.org/2000/svg\" height=\"24px\"viewBox=\"0 0 24 24\"\n",
              "       width=\"24px\">\n",
              "    <path d=\"M0 0h24v24H0V0z\" fill=\"none\"/>\n",
              "    <path d=\"M18.56 5.44l.94 2.06.94-2.06 2.06-.94-2.06-.94-.94-2.06-.94 2.06-2.06.94zm-11 1L8.5 8.5l.94-2.06 2.06-.94-2.06-.94L8.5 2.5l-.94 2.06-2.06.94zm10 10l.94 2.06.94-2.06 2.06-.94-2.06-.94-.94-2.06-.94 2.06-2.06.94z\"/><path d=\"M17.41 7.96l-1.37-1.37c-.4-.4-.92-.59-1.43-.59-.52 0-1.04.2-1.43.59L10.3 9.45l-7.72 7.72c-.78.78-.78 2.05 0 2.83L4 21.41c.39.39.9.59 1.41.59.51 0 1.02-.2 1.41-.59l7.78-7.78 2.81-2.81c.8-.78.8-2.07 0-2.86zM5.41 20L4 18.59l7.72-7.72 1.47 1.35L5.41 20z\"/>\n",
              "  </svg>\n",
              "      </button>\n",
              "      \n",
              "  <style>\n",
              "    .colab-df-container {\n",
              "      display:flex;\n",
              "      flex-wrap:wrap;\n",
              "      gap: 12px;\n",
              "    }\n",
              "\n",
              "    .colab-df-convert {\n",
              "      background-color: #E8F0FE;\n",
              "      border: none;\n",
              "      border-radius: 50%;\n",
              "      cursor: pointer;\n",
              "      display: none;\n",
              "      fill: #1967D2;\n",
              "      height: 32px;\n",
              "      padding: 0 0 0 0;\n",
              "      width: 32px;\n",
              "    }\n",
              "\n",
              "    .colab-df-convert:hover {\n",
              "      background-color: #E2EBFA;\n",
              "      box-shadow: 0px 1px 2px rgba(60, 64, 67, 0.3), 0px 1px 3px 1px rgba(60, 64, 67, 0.15);\n",
              "      fill: #174EA6;\n",
              "    }\n",
              "\n",
              "    [theme=dark] .colab-df-convert {\n",
              "      background-color: #3B4455;\n",
              "      fill: #D2E3FC;\n",
              "    }\n",
              "\n",
              "    [theme=dark] .colab-df-convert:hover {\n",
              "      background-color: #434B5C;\n",
              "      box-shadow: 0px 1px 3px 1px rgba(0, 0, 0, 0.15);\n",
              "      filter: drop-shadow(0px 1px 2px rgba(0, 0, 0, 0.3));\n",
              "      fill: #FFFFFF;\n",
              "    }\n",
              "  </style>\n",
              "\n",
              "      <script>\n",
              "        const buttonEl =\n",
              "          document.querySelector('#df-7fad71af-3704-4914-9ed9-8b672a8a9aeb button.colab-df-convert');\n",
              "        buttonEl.style.display =\n",
              "          google.colab.kernel.accessAllowed ? 'block' : 'none';\n",
              "\n",
              "        async function convertToInteractive(key) {\n",
              "          const element = document.querySelector('#df-7fad71af-3704-4914-9ed9-8b672a8a9aeb');\n",
              "          const dataTable =\n",
              "            await google.colab.kernel.invokeFunction('convertToInteractive',\n",
              "                                                     [key], {});\n",
              "          if (!dataTable) return;\n",
              "\n",
              "          const docLinkHtml = 'Like what you see? Visit the ' +\n",
              "            '<a target=\"_blank\" href=https://colab.research.google.com/notebooks/data_table.ipynb>data table notebook</a>'\n",
              "            + ' to learn more about interactive tables.';\n",
              "          element.innerHTML = '';\n",
              "          dataTable['output_type'] = 'display_data';\n",
              "          await google.colab.output.renderOutput(dataTable, element);\n",
              "          const docLink = document.createElement('div');\n",
              "          docLink.innerHTML = docLinkHtml;\n",
              "          element.appendChild(docLink);\n",
              "        }\n",
              "      </script>\n",
              "    </div>\n",
              "  </div>\n",
              "  "
            ]
          },
          "metadata": {},
          "execution_count": 4
        }
      ]
    },
    {
      "cell_type": "code",
      "source": [
        "data_covid_19.info() #memuat informasi tabel"
      ],
      "metadata": {
        "colab": {
          "base_uri": "https://localhost:8080/"
        },
        "id": "1hDquE6Q0ZDz",
        "outputId": "3e44a9f5-8305-471f-e933-11aefbf4060a"
      },
      "execution_count": 5,
      "outputs": [
        {
          "output_type": "stream",
          "name": "stdout",
          "text": [
            "<class 'pandas.core.frame.DataFrame'>\n",
            "RangeIndex: 64123 entries, 0 to 64122\n",
            "Data columns (total 8 columns):\n",
            " #   Column          Non-Null Count  Dtype  \n",
            "---  ------          --------------  -----  \n",
            " 0   country_region  64123 non-null  object \n",
            " 1   province_state  64123 non-null  object \n",
            " 2   admin2          64111 non-null  object \n",
            " 3   date            64123 non-null  object \n",
            " 4   confirmed       64123 non-null  int64  \n",
            " 5   deaths          64123 non-null  int64  \n",
            " 6   recovered       21562 non-null  float64\n",
            " 7   active          21551 non-null  float64\n",
            "dtypes: float64(2), int64(2), object(4)\n",
            "memory usage: 3.9+ MB\n"
          ]
        }
      ]
    },
    {
      "cell_type": "markdown",
      "source": [
        "Melakukan Cleaning Data untuk menghilangkan missing value"
      ],
      "metadata": {
        "id": "FZIDVu8TSKq9"
      }
    },
    {
      "cell_type": "code",
      "source": [
        "data_covid_19.isna().sum() #mencek missing value"
      ],
      "metadata": {
        "colab": {
          "base_uri": "https://localhost:8080/"
        },
        "id": "ATPqyAJy0fgH",
        "outputId": "646bc024-5dc4-4cdc-c302-5187987ace0b"
      },
      "execution_count": 6,
      "outputs": [
        {
          "output_type": "execute_result",
          "data": {
            "text/plain": [
              "country_region        0\n",
              "province_state        0\n",
              "admin2               12\n",
              "date                  0\n",
              "confirmed             0\n",
              "deaths                0\n",
              "recovered         42561\n",
              "active            42572\n",
              "dtype: int64"
            ]
          },
          "metadata": {},
          "execution_count": 6
        }
      ]
    },
    {
      "cell_type": "code",
      "source": [
        "df = data_covid_19.drop(['recovered', 'active'], axis=1) #mendrop kolom yang tidak digunakan dalam analisis\n",
        "df2 = df.replace('Unassigned', np.NaN) #mengganti value tertentu\n",
        "df1 = df2.fillna(method = 'bfill') #mengisi missing value dengan teknik bfill"
      ],
      "metadata": {
        "id": "IJwdpFyA0s5K"
      },
      "execution_count": 116,
      "outputs": []
    },
    {
      "cell_type": "code",
      "source": [
        "df1"
      ],
      "metadata": {
        "colab": {
          "base_uri": "https://localhost:8080/",
          "height": 424
        },
        "id": "jlubPwzJ1CPX",
        "outputId": "ef4c4dc3-2e90-459d-8e38-7082240cb29e"
      },
      "execution_count": 63,
      "outputs": [
        {
          "output_type": "execute_result",
          "data": {
            "text/plain": [
              "      country_region province_state         admin2        date  confirmed  \\\n",
              "0                 US       New York  New York City  2020-03-10        173   \n",
              "1                 US       New York  New York City  2020-03-11        220   \n",
              "2                 US       New York  New York City  2020-03-12        328   \n",
              "3                 US       New York  New York City  2020-03-13        421   \n",
              "4                 US       New York  New York City  2020-03-14        525   \n",
              "...              ...            ...            ...         ...        ...   \n",
              "64118             US       New York     Washington  2022-12-31      15401   \n",
              "64119             US       New York          Wayne  2022-12-31      21431   \n",
              "64120             US       New York    Westchester  2022-12-31     326527   \n",
              "64121             US       New York        Wyoming  2022-12-31       9785   \n",
              "64122             US       New York          Yates  2022-12-31       4353   \n",
              "\n",
              "       deaths  \n",
              "0           0  \n",
              "1           0  \n",
              "2           0  \n",
              "3           0  \n",
              "4           2  \n",
              "...       ...  \n",
              "64118     136  \n",
              "64119     201  \n",
              "64120    2929  \n",
              "64121      90  \n",
              "64122      42  \n",
              "\n",
              "[64123 rows x 6 columns]"
            ],
            "text/html": [
              "\n",
              "  <div id=\"df-e673a5f2-618d-47c2-9d97-42e3112b25f0\">\n",
              "    <div class=\"colab-df-container\">\n",
              "      <div>\n",
              "<style scoped>\n",
              "    .dataframe tbody tr th:only-of-type {\n",
              "        vertical-align: middle;\n",
              "    }\n",
              "\n",
              "    .dataframe tbody tr th {\n",
              "        vertical-align: top;\n",
              "    }\n",
              "\n",
              "    .dataframe thead th {\n",
              "        text-align: right;\n",
              "    }\n",
              "</style>\n",
              "<table border=\"1\" class=\"dataframe\">\n",
              "  <thead>\n",
              "    <tr style=\"text-align: right;\">\n",
              "      <th></th>\n",
              "      <th>country_region</th>\n",
              "      <th>province_state</th>\n",
              "      <th>admin2</th>\n",
              "      <th>date</th>\n",
              "      <th>confirmed</th>\n",
              "      <th>deaths</th>\n",
              "    </tr>\n",
              "  </thead>\n",
              "  <tbody>\n",
              "    <tr>\n",
              "      <th>0</th>\n",
              "      <td>US</td>\n",
              "      <td>New York</td>\n",
              "      <td>New York City</td>\n",
              "      <td>2020-03-10</td>\n",
              "      <td>173</td>\n",
              "      <td>0</td>\n",
              "    </tr>\n",
              "    <tr>\n",
              "      <th>1</th>\n",
              "      <td>US</td>\n",
              "      <td>New York</td>\n",
              "      <td>New York City</td>\n",
              "      <td>2020-03-11</td>\n",
              "      <td>220</td>\n",
              "      <td>0</td>\n",
              "    </tr>\n",
              "    <tr>\n",
              "      <th>2</th>\n",
              "      <td>US</td>\n",
              "      <td>New York</td>\n",
              "      <td>New York City</td>\n",
              "      <td>2020-03-12</td>\n",
              "      <td>328</td>\n",
              "      <td>0</td>\n",
              "    </tr>\n",
              "    <tr>\n",
              "      <th>3</th>\n",
              "      <td>US</td>\n",
              "      <td>New York</td>\n",
              "      <td>New York City</td>\n",
              "      <td>2020-03-13</td>\n",
              "      <td>421</td>\n",
              "      <td>0</td>\n",
              "    </tr>\n",
              "    <tr>\n",
              "      <th>4</th>\n",
              "      <td>US</td>\n",
              "      <td>New York</td>\n",
              "      <td>New York City</td>\n",
              "      <td>2020-03-14</td>\n",
              "      <td>525</td>\n",
              "      <td>2</td>\n",
              "    </tr>\n",
              "    <tr>\n",
              "      <th>...</th>\n",
              "      <td>...</td>\n",
              "      <td>...</td>\n",
              "      <td>...</td>\n",
              "      <td>...</td>\n",
              "      <td>...</td>\n",
              "      <td>...</td>\n",
              "    </tr>\n",
              "    <tr>\n",
              "      <th>64118</th>\n",
              "      <td>US</td>\n",
              "      <td>New York</td>\n",
              "      <td>Washington</td>\n",
              "      <td>2022-12-31</td>\n",
              "      <td>15401</td>\n",
              "      <td>136</td>\n",
              "    </tr>\n",
              "    <tr>\n",
              "      <th>64119</th>\n",
              "      <td>US</td>\n",
              "      <td>New York</td>\n",
              "      <td>Wayne</td>\n",
              "      <td>2022-12-31</td>\n",
              "      <td>21431</td>\n",
              "      <td>201</td>\n",
              "    </tr>\n",
              "    <tr>\n",
              "      <th>64120</th>\n",
              "      <td>US</td>\n",
              "      <td>New York</td>\n",
              "      <td>Westchester</td>\n",
              "      <td>2022-12-31</td>\n",
              "      <td>326527</td>\n",
              "      <td>2929</td>\n",
              "    </tr>\n",
              "    <tr>\n",
              "      <th>64121</th>\n",
              "      <td>US</td>\n",
              "      <td>New York</td>\n",
              "      <td>Wyoming</td>\n",
              "      <td>2022-12-31</td>\n",
              "      <td>9785</td>\n",
              "      <td>90</td>\n",
              "    </tr>\n",
              "    <tr>\n",
              "      <th>64122</th>\n",
              "      <td>US</td>\n",
              "      <td>New York</td>\n",
              "      <td>Yates</td>\n",
              "      <td>2022-12-31</td>\n",
              "      <td>4353</td>\n",
              "      <td>42</td>\n",
              "    </tr>\n",
              "  </tbody>\n",
              "</table>\n",
              "<p>64123 rows × 6 columns</p>\n",
              "</div>\n",
              "      <button class=\"colab-df-convert\" onclick=\"convertToInteractive('df-e673a5f2-618d-47c2-9d97-42e3112b25f0')\"\n",
              "              title=\"Convert this dataframe to an interactive table.\"\n",
              "              style=\"display:none;\">\n",
              "        \n",
              "  <svg xmlns=\"http://www.w3.org/2000/svg\" height=\"24px\"viewBox=\"0 0 24 24\"\n",
              "       width=\"24px\">\n",
              "    <path d=\"M0 0h24v24H0V0z\" fill=\"none\"/>\n",
              "    <path d=\"M18.56 5.44l.94 2.06.94-2.06 2.06-.94-2.06-.94-.94-2.06-.94 2.06-2.06.94zm-11 1L8.5 8.5l.94-2.06 2.06-.94-2.06-.94L8.5 2.5l-.94 2.06-2.06.94zm10 10l.94 2.06.94-2.06 2.06-.94-2.06-.94-.94-2.06-.94 2.06-2.06.94z\"/><path d=\"M17.41 7.96l-1.37-1.37c-.4-.4-.92-.59-1.43-.59-.52 0-1.04.2-1.43.59L10.3 9.45l-7.72 7.72c-.78.78-.78 2.05 0 2.83L4 21.41c.39.39.9.59 1.41.59.51 0 1.02-.2 1.41-.59l7.78-7.78 2.81-2.81c.8-.78.8-2.07 0-2.86zM5.41 20L4 18.59l7.72-7.72 1.47 1.35L5.41 20z\"/>\n",
              "  </svg>\n",
              "      </button>\n",
              "      \n",
              "  <style>\n",
              "    .colab-df-container {\n",
              "      display:flex;\n",
              "      flex-wrap:wrap;\n",
              "      gap: 12px;\n",
              "    }\n",
              "\n",
              "    .colab-df-convert {\n",
              "      background-color: #E8F0FE;\n",
              "      border: none;\n",
              "      border-radius: 50%;\n",
              "      cursor: pointer;\n",
              "      display: none;\n",
              "      fill: #1967D2;\n",
              "      height: 32px;\n",
              "      padding: 0 0 0 0;\n",
              "      width: 32px;\n",
              "    }\n",
              "\n",
              "    .colab-df-convert:hover {\n",
              "      background-color: #E2EBFA;\n",
              "      box-shadow: 0px 1px 2px rgba(60, 64, 67, 0.3), 0px 1px 3px 1px rgba(60, 64, 67, 0.15);\n",
              "      fill: #174EA6;\n",
              "    }\n",
              "\n",
              "    [theme=dark] .colab-df-convert {\n",
              "      background-color: #3B4455;\n",
              "      fill: #D2E3FC;\n",
              "    }\n",
              "\n",
              "    [theme=dark] .colab-df-convert:hover {\n",
              "      background-color: #434B5C;\n",
              "      box-shadow: 0px 1px 3px 1px rgba(0, 0, 0, 0.15);\n",
              "      filter: drop-shadow(0px 1px 2px rgba(0, 0, 0, 0.3));\n",
              "      fill: #FFFFFF;\n",
              "    }\n",
              "  </style>\n",
              "\n",
              "      <script>\n",
              "        const buttonEl =\n",
              "          document.querySelector('#df-e673a5f2-618d-47c2-9d97-42e3112b25f0 button.colab-df-convert');\n",
              "        buttonEl.style.display =\n",
              "          google.colab.kernel.accessAllowed ? 'block' : 'none';\n",
              "\n",
              "        async function convertToInteractive(key) {\n",
              "          const element = document.querySelector('#df-e673a5f2-618d-47c2-9d97-42e3112b25f0');\n",
              "          const dataTable =\n",
              "            await google.colab.kernel.invokeFunction('convertToInteractive',\n",
              "                                                     [key], {});\n",
              "          if (!dataTable) return;\n",
              "\n",
              "          const docLinkHtml = 'Like what you see? Visit the ' +\n",
              "            '<a target=\"_blank\" href=https://colab.research.google.com/notebooks/data_table.ipynb>data table notebook</a>'\n",
              "            + ' to learn more about interactive tables.';\n",
              "          element.innerHTML = '';\n",
              "          dataTable['output_type'] = 'display_data';\n",
              "          await google.colab.output.renderOutput(dataTable, element);\n",
              "          const docLink = document.createElement('div');\n",
              "          docLink.innerHTML = docLinkHtml;\n",
              "          element.appendChild(docLink);\n",
              "        }\n",
              "      </script>\n",
              "    </div>\n",
              "  </div>\n",
              "  "
            ]
          },
          "metadata": {},
          "execution_count": 63
        }
      ]
    },
    {
      "cell_type": "code",
      "source": [
        "df1.isna().sum() #melihat jumlah missing value"
      ],
      "metadata": {
        "colab": {
          "base_uri": "https://localhost:8080/"
        },
        "id": "C5mduBX79Esn",
        "outputId": "20a3a6bb-d6a7-4471-c91a-20a81eaffb92"
      },
      "execution_count": 64,
      "outputs": [
        {
          "output_type": "execute_result",
          "data": {
            "text/plain": [
              "country_region    0\n",
              "province_state    0\n",
              "admin2            0\n",
              "date              0\n",
              "confirmed         0\n",
              "deaths            0\n",
              "dtype: int64"
            ]
          },
          "metadata": {},
          "execution_count": 64
        }
      ]
    },
    {
      "cell_type": "markdown",
      "source": [
        "Melakukan Eksplorasi Data "
      ],
      "metadata": {
        "id": "6ubyymb8SXVy"
      }
    },
    {
      "cell_type": "code",
      "source": [
        "df1_rename = df1.rename(                      #merubah nama kolom\n",
        "    columns={\"country_region\": \"Negara\", \n",
        "             \"province_state\": \"Provinsi\", \n",
        "             \"admin2\": \"Kota\",\n",
        "             \"date\": \"Tanggal\",\n",
        "             \"confirmed\": \"Terkonfirmasi\",\n",
        "             \"deaths\": \"Meninggal\"}\n",
        ")\n",
        "df1_rename.head()                             #memuat data yang telah didefinisikan"
      ],
      "metadata": {
        "colab": {
          "base_uri": "https://localhost:8080/",
          "height": 206
        },
        "id": "HlEDZjMJdMKC",
        "outputId": "ae2d7478-6f00-4075-da90-f609f482f13c"
      },
      "execution_count": 65,
      "outputs": [
        {
          "output_type": "execute_result",
          "data": {
            "text/plain": [
              "  Negara  Provinsi           Kota     Tanggal  Terkonfirmasi  Meninggal\n",
              "0     US  New York  New York City  2020-03-10            173          0\n",
              "1     US  New York  New York City  2020-03-11            220          0\n",
              "2     US  New York  New York City  2020-03-12            328          0\n",
              "3     US  New York  New York City  2020-03-13            421          0\n",
              "4     US  New York  New York City  2020-03-14            525          2"
            ],
            "text/html": [
              "\n",
              "  <div id=\"df-4f7c1850-c0d0-481a-9eb1-de846f8edfe6\">\n",
              "    <div class=\"colab-df-container\">\n",
              "      <div>\n",
              "<style scoped>\n",
              "    .dataframe tbody tr th:only-of-type {\n",
              "        vertical-align: middle;\n",
              "    }\n",
              "\n",
              "    .dataframe tbody tr th {\n",
              "        vertical-align: top;\n",
              "    }\n",
              "\n",
              "    .dataframe thead th {\n",
              "        text-align: right;\n",
              "    }\n",
              "</style>\n",
              "<table border=\"1\" class=\"dataframe\">\n",
              "  <thead>\n",
              "    <tr style=\"text-align: right;\">\n",
              "      <th></th>\n",
              "      <th>Negara</th>\n",
              "      <th>Provinsi</th>\n",
              "      <th>Kota</th>\n",
              "      <th>Tanggal</th>\n",
              "      <th>Terkonfirmasi</th>\n",
              "      <th>Meninggal</th>\n",
              "    </tr>\n",
              "  </thead>\n",
              "  <tbody>\n",
              "    <tr>\n",
              "      <th>0</th>\n",
              "      <td>US</td>\n",
              "      <td>New York</td>\n",
              "      <td>New York City</td>\n",
              "      <td>2020-03-10</td>\n",
              "      <td>173</td>\n",
              "      <td>0</td>\n",
              "    </tr>\n",
              "    <tr>\n",
              "      <th>1</th>\n",
              "      <td>US</td>\n",
              "      <td>New York</td>\n",
              "      <td>New York City</td>\n",
              "      <td>2020-03-11</td>\n",
              "      <td>220</td>\n",
              "      <td>0</td>\n",
              "    </tr>\n",
              "    <tr>\n",
              "      <th>2</th>\n",
              "      <td>US</td>\n",
              "      <td>New York</td>\n",
              "      <td>New York City</td>\n",
              "      <td>2020-03-12</td>\n",
              "      <td>328</td>\n",
              "      <td>0</td>\n",
              "    </tr>\n",
              "    <tr>\n",
              "      <th>3</th>\n",
              "      <td>US</td>\n",
              "      <td>New York</td>\n",
              "      <td>New York City</td>\n",
              "      <td>2020-03-13</td>\n",
              "      <td>421</td>\n",
              "      <td>0</td>\n",
              "    </tr>\n",
              "    <tr>\n",
              "      <th>4</th>\n",
              "      <td>US</td>\n",
              "      <td>New York</td>\n",
              "      <td>New York City</td>\n",
              "      <td>2020-03-14</td>\n",
              "      <td>525</td>\n",
              "      <td>2</td>\n",
              "    </tr>\n",
              "  </tbody>\n",
              "</table>\n",
              "</div>\n",
              "      <button class=\"colab-df-convert\" onclick=\"convertToInteractive('df-4f7c1850-c0d0-481a-9eb1-de846f8edfe6')\"\n",
              "              title=\"Convert this dataframe to an interactive table.\"\n",
              "              style=\"display:none;\">\n",
              "        \n",
              "  <svg xmlns=\"http://www.w3.org/2000/svg\" height=\"24px\"viewBox=\"0 0 24 24\"\n",
              "       width=\"24px\">\n",
              "    <path d=\"M0 0h24v24H0V0z\" fill=\"none\"/>\n",
              "    <path d=\"M18.56 5.44l.94 2.06.94-2.06 2.06-.94-2.06-.94-.94-2.06-.94 2.06-2.06.94zm-11 1L8.5 8.5l.94-2.06 2.06-.94-2.06-.94L8.5 2.5l-.94 2.06-2.06.94zm10 10l.94 2.06.94-2.06 2.06-.94-2.06-.94-.94-2.06-.94 2.06-2.06.94z\"/><path d=\"M17.41 7.96l-1.37-1.37c-.4-.4-.92-.59-1.43-.59-.52 0-1.04.2-1.43.59L10.3 9.45l-7.72 7.72c-.78.78-.78 2.05 0 2.83L4 21.41c.39.39.9.59 1.41.59.51 0 1.02-.2 1.41-.59l7.78-7.78 2.81-2.81c.8-.78.8-2.07 0-2.86zM5.41 20L4 18.59l7.72-7.72 1.47 1.35L5.41 20z\"/>\n",
              "  </svg>\n",
              "      </button>\n",
              "      \n",
              "  <style>\n",
              "    .colab-df-container {\n",
              "      display:flex;\n",
              "      flex-wrap:wrap;\n",
              "      gap: 12px;\n",
              "    }\n",
              "\n",
              "    .colab-df-convert {\n",
              "      background-color: #E8F0FE;\n",
              "      border: none;\n",
              "      border-radius: 50%;\n",
              "      cursor: pointer;\n",
              "      display: none;\n",
              "      fill: #1967D2;\n",
              "      height: 32px;\n",
              "      padding: 0 0 0 0;\n",
              "      width: 32px;\n",
              "    }\n",
              "\n",
              "    .colab-df-convert:hover {\n",
              "      background-color: #E2EBFA;\n",
              "      box-shadow: 0px 1px 2px rgba(60, 64, 67, 0.3), 0px 1px 3px 1px rgba(60, 64, 67, 0.15);\n",
              "      fill: #174EA6;\n",
              "    }\n",
              "\n",
              "    [theme=dark] .colab-df-convert {\n",
              "      background-color: #3B4455;\n",
              "      fill: #D2E3FC;\n",
              "    }\n",
              "\n",
              "    [theme=dark] .colab-df-convert:hover {\n",
              "      background-color: #434B5C;\n",
              "      box-shadow: 0px 1px 3px 1px rgba(0, 0, 0, 0.15);\n",
              "      filter: drop-shadow(0px 1px 2px rgba(0, 0, 0, 0.3));\n",
              "      fill: #FFFFFF;\n",
              "    }\n",
              "  </style>\n",
              "\n",
              "      <script>\n",
              "        const buttonEl =\n",
              "          document.querySelector('#df-4f7c1850-c0d0-481a-9eb1-de846f8edfe6 button.colab-df-convert');\n",
              "        buttonEl.style.display =\n",
              "          google.colab.kernel.accessAllowed ? 'block' : 'none';\n",
              "\n",
              "        async function convertToInteractive(key) {\n",
              "          const element = document.querySelector('#df-4f7c1850-c0d0-481a-9eb1-de846f8edfe6');\n",
              "          const dataTable =\n",
              "            await google.colab.kernel.invokeFunction('convertToInteractive',\n",
              "                                                     [key], {});\n",
              "          if (!dataTable) return;\n",
              "\n",
              "          const docLinkHtml = 'Like what you see? Visit the ' +\n",
              "            '<a target=\"_blank\" href=https://colab.research.google.com/notebooks/data_table.ipynb>data table notebook</a>'\n",
              "            + ' to learn more about interactive tables.';\n",
              "          element.innerHTML = '';\n",
              "          dataTable['output_type'] = 'display_data';\n",
              "          await google.colab.output.renderOutput(dataTable, element);\n",
              "          const docLink = document.createElement('div');\n",
              "          docLink.innerHTML = docLinkHtml;\n",
              "          element.appendChild(docLink);\n",
              "        }\n",
              "      </script>\n",
              "    </div>\n",
              "  </div>\n",
              "  "
            ]
          },
          "metadata": {},
          "execution_count": 65
        }
      ]
    },
    {
      "cell_type": "code",
      "source": [
        "covid_19_2020 = df1_rename[             #melakukan pengelompokan data berdasarkan kolom tertentu\n",
        "    (df1[\"date\"] > '2020-01-01') &\n",
        "    (df1[\"date\"] < '2020-12-31')\n",
        "]\n",
        "covid_19_2021 = df1_rename[             #melakukan pengelompokan data berdasarkan kolom tertentu\n",
        "    (df1[\"date\"] > '2021-01-01') &\n",
        "    (df1[\"date\"] < '2021-12-31')\n",
        "]\n",
        "covid_19_2022 = df1_rename[             #melakukan pengelompokan data berdasarkan kolom tertentu\n",
        "    (df1[\"date\"] > '2022-01-01') &\n",
        "    (df1[\"date\"] < '2022-12-31')\n",
        "]"
      ],
      "metadata": {
        "id": "ypsWKtD71D0u"
      },
      "execution_count": 66,
      "outputs": []
    },
    {
      "cell_type": "code",
      "source": [
        "covid_19_2020 #memuat data yang telah didefinisikan"
      ],
      "metadata": {
        "colab": {
          "base_uri": "https://localhost:8080/",
          "height": 424
        },
        "id": "RI8FVCSn8EZB",
        "outputId": "abc90fc2-f1c2-4531-ee40-e4e2476bb045"
      },
      "execution_count": 67,
      "outputs": [
        {
          "output_type": "execute_result",
          "data": {
            "text/plain": [
              "      Negara  Provinsi           Kota     Tanggal  Terkonfirmasi  Meninggal\n",
              "0         US  New York  New York City  2020-03-10            173          0\n",
              "1         US  New York  New York City  2020-03-11            220          0\n",
              "2         US  New York  New York City  2020-03-12            328          0\n",
              "3         US  New York  New York City  2020-03-13            421          0\n",
              "4         US  New York  New York City  2020-03-14            525          2\n",
              "...      ...       ...            ...         ...            ...        ...\n",
              "17334     US  New York     Washington  2020-12-30            805         15\n",
              "17335     US  New York          Wayne  2020-12-30           2477         35\n",
              "17336     US  New York    Westchester  2020-12-30          68702       1661\n",
              "17337     US  New York        Wyoming  2020-12-30           1321         21\n",
              "17338     US  New York          Yates  2020-12-30            488         10\n",
              "\n",
              "[17339 rows x 6 columns]"
            ],
            "text/html": [
              "\n",
              "  <div id=\"df-48d2e2d1-a58b-4fef-94db-dc62d16cbc52\">\n",
              "    <div class=\"colab-df-container\">\n",
              "      <div>\n",
              "<style scoped>\n",
              "    .dataframe tbody tr th:only-of-type {\n",
              "        vertical-align: middle;\n",
              "    }\n",
              "\n",
              "    .dataframe tbody tr th {\n",
              "        vertical-align: top;\n",
              "    }\n",
              "\n",
              "    .dataframe thead th {\n",
              "        text-align: right;\n",
              "    }\n",
              "</style>\n",
              "<table border=\"1\" class=\"dataframe\">\n",
              "  <thead>\n",
              "    <tr style=\"text-align: right;\">\n",
              "      <th></th>\n",
              "      <th>Negara</th>\n",
              "      <th>Provinsi</th>\n",
              "      <th>Kota</th>\n",
              "      <th>Tanggal</th>\n",
              "      <th>Terkonfirmasi</th>\n",
              "      <th>Meninggal</th>\n",
              "    </tr>\n",
              "  </thead>\n",
              "  <tbody>\n",
              "    <tr>\n",
              "      <th>0</th>\n",
              "      <td>US</td>\n",
              "      <td>New York</td>\n",
              "      <td>New York City</td>\n",
              "      <td>2020-03-10</td>\n",
              "      <td>173</td>\n",
              "      <td>0</td>\n",
              "    </tr>\n",
              "    <tr>\n",
              "      <th>1</th>\n",
              "      <td>US</td>\n",
              "      <td>New York</td>\n",
              "      <td>New York City</td>\n",
              "      <td>2020-03-11</td>\n",
              "      <td>220</td>\n",
              "      <td>0</td>\n",
              "    </tr>\n",
              "    <tr>\n",
              "      <th>2</th>\n",
              "      <td>US</td>\n",
              "      <td>New York</td>\n",
              "      <td>New York City</td>\n",
              "      <td>2020-03-12</td>\n",
              "      <td>328</td>\n",
              "      <td>0</td>\n",
              "    </tr>\n",
              "    <tr>\n",
              "      <th>3</th>\n",
              "      <td>US</td>\n",
              "      <td>New York</td>\n",
              "      <td>New York City</td>\n",
              "      <td>2020-03-13</td>\n",
              "      <td>421</td>\n",
              "      <td>0</td>\n",
              "    </tr>\n",
              "    <tr>\n",
              "      <th>4</th>\n",
              "      <td>US</td>\n",
              "      <td>New York</td>\n",
              "      <td>New York City</td>\n",
              "      <td>2020-03-14</td>\n",
              "      <td>525</td>\n",
              "      <td>2</td>\n",
              "    </tr>\n",
              "    <tr>\n",
              "      <th>...</th>\n",
              "      <td>...</td>\n",
              "      <td>...</td>\n",
              "      <td>...</td>\n",
              "      <td>...</td>\n",
              "      <td>...</td>\n",
              "      <td>...</td>\n",
              "    </tr>\n",
              "    <tr>\n",
              "      <th>17334</th>\n",
              "      <td>US</td>\n",
              "      <td>New York</td>\n",
              "      <td>Washington</td>\n",
              "      <td>2020-12-30</td>\n",
              "      <td>805</td>\n",
              "      <td>15</td>\n",
              "    </tr>\n",
              "    <tr>\n",
              "      <th>17335</th>\n",
              "      <td>US</td>\n",
              "      <td>New York</td>\n",
              "      <td>Wayne</td>\n",
              "      <td>2020-12-30</td>\n",
              "      <td>2477</td>\n",
              "      <td>35</td>\n",
              "    </tr>\n",
              "    <tr>\n",
              "      <th>17336</th>\n",
              "      <td>US</td>\n",
              "      <td>New York</td>\n",
              "      <td>Westchester</td>\n",
              "      <td>2020-12-30</td>\n",
              "      <td>68702</td>\n",
              "      <td>1661</td>\n",
              "    </tr>\n",
              "    <tr>\n",
              "      <th>17337</th>\n",
              "      <td>US</td>\n",
              "      <td>New York</td>\n",
              "      <td>Wyoming</td>\n",
              "      <td>2020-12-30</td>\n",
              "      <td>1321</td>\n",
              "      <td>21</td>\n",
              "    </tr>\n",
              "    <tr>\n",
              "      <th>17338</th>\n",
              "      <td>US</td>\n",
              "      <td>New York</td>\n",
              "      <td>Yates</td>\n",
              "      <td>2020-12-30</td>\n",
              "      <td>488</td>\n",
              "      <td>10</td>\n",
              "    </tr>\n",
              "  </tbody>\n",
              "</table>\n",
              "<p>17339 rows × 6 columns</p>\n",
              "</div>\n",
              "      <button class=\"colab-df-convert\" onclick=\"convertToInteractive('df-48d2e2d1-a58b-4fef-94db-dc62d16cbc52')\"\n",
              "              title=\"Convert this dataframe to an interactive table.\"\n",
              "              style=\"display:none;\">\n",
              "        \n",
              "  <svg xmlns=\"http://www.w3.org/2000/svg\" height=\"24px\"viewBox=\"0 0 24 24\"\n",
              "       width=\"24px\">\n",
              "    <path d=\"M0 0h24v24H0V0z\" fill=\"none\"/>\n",
              "    <path d=\"M18.56 5.44l.94 2.06.94-2.06 2.06-.94-2.06-.94-.94-2.06-.94 2.06-2.06.94zm-11 1L8.5 8.5l.94-2.06 2.06-.94-2.06-.94L8.5 2.5l-.94 2.06-2.06.94zm10 10l.94 2.06.94-2.06 2.06-.94-2.06-.94-.94-2.06-.94 2.06-2.06.94z\"/><path d=\"M17.41 7.96l-1.37-1.37c-.4-.4-.92-.59-1.43-.59-.52 0-1.04.2-1.43.59L10.3 9.45l-7.72 7.72c-.78.78-.78 2.05 0 2.83L4 21.41c.39.39.9.59 1.41.59.51 0 1.02-.2 1.41-.59l7.78-7.78 2.81-2.81c.8-.78.8-2.07 0-2.86zM5.41 20L4 18.59l7.72-7.72 1.47 1.35L5.41 20z\"/>\n",
              "  </svg>\n",
              "      </button>\n",
              "      \n",
              "  <style>\n",
              "    .colab-df-container {\n",
              "      display:flex;\n",
              "      flex-wrap:wrap;\n",
              "      gap: 12px;\n",
              "    }\n",
              "\n",
              "    .colab-df-convert {\n",
              "      background-color: #E8F0FE;\n",
              "      border: none;\n",
              "      border-radius: 50%;\n",
              "      cursor: pointer;\n",
              "      display: none;\n",
              "      fill: #1967D2;\n",
              "      height: 32px;\n",
              "      padding: 0 0 0 0;\n",
              "      width: 32px;\n",
              "    }\n",
              "\n",
              "    .colab-df-convert:hover {\n",
              "      background-color: #E2EBFA;\n",
              "      box-shadow: 0px 1px 2px rgba(60, 64, 67, 0.3), 0px 1px 3px 1px rgba(60, 64, 67, 0.15);\n",
              "      fill: #174EA6;\n",
              "    }\n",
              "\n",
              "    [theme=dark] .colab-df-convert {\n",
              "      background-color: #3B4455;\n",
              "      fill: #D2E3FC;\n",
              "    }\n",
              "\n",
              "    [theme=dark] .colab-df-convert:hover {\n",
              "      background-color: #434B5C;\n",
              "      box-shadow: 0px 1px 3px 1px rgba(0, 0, 0, 0.15);\n",
              "      filter: drop-shadow(0px 1px 2px rgba(0, 0, 0, 0.3));\n",
              "      fill: #FFFFFF;\n",
              "    }\n",
              "  </style>\n",
              "\n",
              "      <script>\n",
              "        const buttonEl =\n",
              "          document.querySelector('#df-48d2e2d1-a58b-4fef-94db-dc62d16cbc52 button.colab-df-convert');\n",
              "        buttonEl.style.display =\n",
              "          google.colab.kernel.accessAllowed ? 'block' : 'none';\n",
              "\n",
              "        async function convertToInteractive(key) {\n",
              "          const element = document.querySelector('#df-48d2e2d1-a58b-4fef-94db-dc62d16cbc52');\n",
              "          const dataTable =\n",
              "            await google.colab.kernel.invokeFunction('convertToInteractive',\n",
              "                                                     [key], {});\n",
              "          if (!dataTable) return;\n",
              "\n",
              "          const docLinkHtml = 'Like what you see? Visit the ' +\n",
              "            '<a target=\"_blank\" href=https://colab.research.google.com/notebooks/data_table.ipynb>data table notebook</a>'\n",
              "            + ' to learn more about interactive tables.';\n",
              "          element.innerHTML = '';\n",
              "          dataTable['output_type'] = 'display_data';\n",
              "          await google.colab.output.renderOutput(dataTable, element);\n",
              "          const docLink = document.createElement('div');\n",
              "          docLink.innerHTML = docLinkHtml;\n",
              "          element.appendChild(docLink);\n",
              "        }\n",
              "      </script>\n",
              "    </div>\n",
              "  </div>\n",
              "  "
            ]
          },
          "metadata": {},
          "execution_count": 67
        }
      ]
    },
    {
      "cell_type": "code",
      "source": [
        "covid_19_2020.describe()  #memuat statistik dasar"
      ],
      "metadata": {
        "colab": {
          "base_uri": "https://localhost:8080/",
          "height": 300
        },
        "id": "cRe-U28x1H51",
        "outputId": "71b6ee1e-a3ff-49a0-d2d1-2e46c8b065ea"
      },
      "execution_count": 68,
      "outputs": [
        {
          "output_type": "execute_result",
          "data": {
            "text/plain": [
              "       Terkonfirmasi     Meninggal\n",
              "count   17339.000000  17339.000000\n",
              "mean     7157.413519    480.875541\n",
              "std     23307.637821   2176.812787\n",
              "min         0.000000      0.000000\n",
              "25%       107.000000      3.000000\n",
              "50%       348.000000     14.000000\n",
              "75%      1879.000000     66.000000\n",
              "max    233969.000000  23689.000000"
            ],
            "text/html": [
              "\n",
              "  <div id=\"df-842feada-2b48-48dc-8a3e-1875f22dbc9a\">\n",
              "    <div class=\"colab-df-container\">\n",
              "      <div>\n",
              "<style scoped>\n",
              "    .dataframe tbody tr th:only-of-type {\n",
              "        vertical-align: middle;\n",
              "    }\n",
              "\n",
              "    .dataframe tbody tr th {\n",
              "        vertical-align: top;\n",
              "    }\n",
              "\n",
              "    .dataframe thead th {\n",
              "        text-align: right;\n",
              "    }\n",
              "</style>\n",
              "<table border=\"1\" class=\"dataframe\">\n",
              "  <thead>\n",
              "    <tr style=\"text-align: right;\">\n",
              "      <th></th>\n",
              "      <th>Terkonfirmasi</th>\n",
              "      <th>Meninggal</th>\n",
              "    </tr>\n",
              "  </thead>\n",
              "  <tbody>\n",
              "    <tr>\n",
              "      <th>count</th>\n",
              "      <td>17339.000000</td>\n",
              "      <td>17339.000000</td>\n",
              "    </tr>\n",
              "    <tr>\n",
              "      <th>mean</th>\n",
              "      <td>7157.413519</td>\n",
              "      <td>480.875541</td>\n",
              "    </tr>\n",
              "    <tr>\n",
              "      <th>std</th>\n",
              "      <td>23307.637821</td>\n",
              "      <td>2176.812787</td>\n",
              "    </tr>\n",
              "    <tr>\n",
              "      <th>min</th>\n",
              "      <td>0.000000</td>\n",
              "      <td>0.000000</td>\n",
              "    </tr>\n",
              "    <tr>\n",
              "      <th>25%</th>\n",
              "      <td>107.000000</td>\n",
              "      <td>3.000000</td>\n",
              "    </tr>\n",
              "    <tr>\n",
              "      <th>50%</th>\n",
              "      <td>348.000000</td>\n",
              "      <td>14.000000</td>\n",
              "    </tr>\n",
              "    <tr>\n",
              "      <th>75%</th>\n",
              "      <td>1879.000000</td>\n",
              "      <td>66.000000</td>\n",
              "    </tr>\n",
              "    <tr>\n",
              "      <th>max</th>\n",
              "      <td>233969.000000</td>\n",
              "      <td>23689.000000</td>\n",
              "    </tr>\n",
              "  </tbody>\n",
              "</table>\n",
              "</div>\n",
              "      <button class=\"colab-df-convert\" onclick=\"convertToInteractive('df-842feada-2b48-48dc-8a3e-1875f22dbc9a')\"\n",
              "              title=\"Convert this dataframe to an interactive table.\"\n",
              "              style=\"display:none;\">\n",
              "        \n",
              "  <svg xmlns=\"http://www.w3.org/2000/svg\" height=\"24px\"viewBox=\"0 0 24 24\"\n",
              "       width=\"24px\">\n",
              "    <path d=\"M0 0h24v24H0V0z\" fill=\"none\"/>\n",
              "    <path d=\"M18.56 5.44l.94 2.06.94-2.06 2.06-.94-2.06-.94-.94-2.06-.94 2.06-2.06.94zm-11 1L8.5 8.5l.94-2.06 2.06-.94-2.06-.94L8.5 2.5l-.94 2.06-2.06.94zm10 10l.94 2.06.94-2.06 2.06-.94-2.06-.94-.94-2.06-.94 2.06-2.06.94z\"/><path d=\"M17.41 7.96l-1.37-1.37c-.4-.4-.92-.59-1.43-.59-.52 0-1.04.2-1.43.59L10.3 9.45l-7.72 7.72c-.78.78-.78 2.05 0 2.83L4 21.41c.39.39.9.59 1.41.59.51 0 1.02-.2 1.41-.59l7.78-7.78 2.81-2.81c.8-.78.8-2.07 0-2.86zM5.41 20L4 18.59l7.72-7.72 1.47 1.35L5.41 20z\"/>\n",
              "  </svg>\n",
              "      </button>\n",
              "      \n",
              "  <style>\n",
              "    .colab-df-container {\n",
              "      display:flex;\n",
              "      flex-wrap:wrap;\n",
              "      gap: 12px;\n",
              "    }\n",
              "\n",
              "    .colab-df-convert {\n",
              "      background-color: #E8F0FE;\n",
              "      border: none;\n",
              "      border-radius: 50%;\n",
              "      cursor: pointer;\n",
              "      display: none;\n",
              "      fill: #1967D2;\n",
              "      height: 32px;\n",
              "      padding: 0 0 0 0;\n",
              "      width: 32px;\n",
              "    }\n",
              "\n",
              "    .colab-df-convert:hover {\n",
              "      background-color: #E2EBFA;\n",
              "      box-shadow: 0px 1px 2px rgba(60, 64, 67, 0.3), 0px 1px 3px 1px rgba(60, 64, 67, 0.15);\n",
              "      fill: #174EA6;\n",
              "    }\n",
              "\n",
              "    [theme=dark] .colab-df-convert {\n",
              "      background-color: #3B4455;\n",
              "      fill: #D2E3FC;\n",
              "    }\n",
              "\n",
              "    [theme=dark] .colab-df-convert:hover {\n",
              "      background-color: #434B5C;\n",
              "      box-shadow: 0px 1px 3px 1px rgba(0, 0, 0, 0.15);\n",
              "      filter: drop-shadow(0px 1px 2px rgba(0, 0, 0, 0.3));\n",
              "      fill: #FFFFFF;\n",
              "    }\n",
              "  </style>\n",
              "\n",
              "      <script>\n",
              "        const buttonEl =\n",
              "          document.querySelector('#df-842feada-2b48-48dc-8a3e-1875f22dbc9a button.colab-df-convert');\n",
              "        buttonEl.style.display =\n",
              "          google.colab.kernel.accessAllowed ? 'block' : 'none';\n",
              "\n",
              "        async function convertToInteractive(key) {\n",
              "          const element = document.querySelector('#df-842feada-2b48-48dc-8a3e-1875f22dbc9a');\n",
              "          const dataTable =\n",
              "            await google.colab.kernel.invokeFunction('convertToInteractive',\n",
              "                                                     [key], {});\n",
              "          if (!dataTable) return;\n",
              "\n",
              "          const docLinkHtml = 'Like what you see? Visit the ' +\n",
              "            '<a target=\"_blank\" href=https://colab.research.google.com/notebooks/data_table.ipynb>data table notebook</a>'\n",
              "            + ' to learn more about interactive tables.';\n",
              "          element.innerHTML = '';\n",
              "          dataTable['output_type'] = 'display_data';\n",
              "          await google.colab.output.renderOutput(dataTable, element);\n",
              "          const docLink = document.createElement('div');\n",
              "          docLink.innerHTML = docLinkHtml;\n",
              "          element.appendChild(docLink);\n",
              "        }\n",
              "      </script>\n",
              "    </div>\n",
              "  </div>\n",
              "  "
            ]
          },
          "metadata": {},
          "execution_count": 68
        }
      ]
    },
    {
      "cell_type": "code",
      "source": [
        "covid_19_2021 #memuat data yang telah didefinisikan"
      ],
      "metadata": {
        "colab": {
          "base_uri": "https://localhost:8080/",
          "height": 424
        },
        "id": "A6uhN-Ed_8Ay",
        "outputId": "703ac9a2-0e0a-41c1-8720-1781117327bd"
      },
      "execution_count": 69,
      "outputs": [
        {
          "output_type": "execute_result",
          "data": {
            "text/plain": [
              "      Negara  Provinsi         Kota     Tanggal  Terkonfirmasi  Meninggal\n",
              "17467     US  New York       Albany  2021-01-02          12199        208\n",
              "17468     US  New York     Allegany  2021-01-02           1894         73\n",
              "17469     US  New York        Bronx  2021-01-02          87727       5137\n",
              "17470     US  New York       Broome  2021-01-02           8487        208\n",
              "17471     US  New York  Cattaraugus  2021-01-02           2630         44\n",
              "...      ...       ...          ...         ...            ...        ...\n",
              "40694     US  New York   Washington  2021-12-30           8248         91\n",
              "40695     US  New York        Wayne  2021-12-30          12231        125\n",
              "40696     US  New York  Westchester  2021-12-30         179080       2399\n",
              "40697     US  New York      Wyoming  2021-12-30           6198         74\n",
              "40698     US  New York        Yates  2021-12-30           2368         36\n",
              "\n",
              "[23232 rows x 6 columns]"
            ],
            "text/html": [
              "\n",
              "  <div id=\"df-d23e4d84-178d-4cbd-bd7c-3c9dc844d754\">\n",
              "    <div class=\"colab-df-container\">\n",
              "      <div>\n",
              "<style scoped>\n",
              "    .dataframe tbody tr th:only-of-type {\n",
              "        vertical-align: middle;\n",
              "    }\n",
              "\n",
              "    .dataframe tbody tr th {\n",
              "        vertical-align: top;\n",
              "    }\n",
              "\n",
              "    .dataframe thead th {\n",
              "        text-align: right;\n",
              "    }\n",
              "</style>\n",
              "<table border=\"1\" class=\"dataframe\">\n",
              "  <thead>\n",
              "    <tr style=\"text-align: right;\">\n",
              "      <th></th>\n",
              "      <th>Negara</th>\n",
              "      <th>Provinsi</th>\n",
              "      <th>Kota</th>\n",
              "      <th>Tanggal</th>\n",
              "      <th>Terkonfirmasi</th>\n",
              "      <th>Meninggal</th>\n",
              "    </tr>\n",
              "  </thead>\n",
              "  <tbody>\n",
              "    <tr>\n",
              "      <th>17467</th>\n",
              "      <td>US</td>\n",
              "      <td>New York</td>\n",
              "      <td>Albany</td>\n",
              "      <td>2021-01-02</td>\n",
              "      <td>12199</td>\n",
              "      <td>208</td>\n",
              "    </tr>\n",
              "    <tr>\n",
              "      <th>17468</th>\n",
              "      <td>US</td>\n",
              "      <td>New York</td>\n",
              "      <td>Allegany</td>\n",
              "      <td>2021-01-02</td>\n",
              "      <td>1894</td>\n",
              "      <td>73</td>\n",
              "    </tr>\n",
              "    <tr>\n",
              "      <th>17469</th>\n",
              "      <td>US</td>\n",
              "      <td>New York</td>\n",
              "      <td>Bronx</td>\n",
              "      <td>2021-01-02</td>\n",
              "      <td>87727</td>\n",
              "      <td>5137</td>\n",
              "    </tr>\n",
              "    <tr>\n",
              "      <th>17470</th>\n",
              "      <td>US</td>\n",
              "      <td>New York</td>\n",
              "      <td>Broome</td>\n",
              "      <td>2021-01-02</td>\n",
              "      <td>8487</td>\n",
              "      <td>208</td>\n",
              "    </tr>\n",
              "    <tr>\n",
              "      <th>17471</th>\n",
              "      <td>US</td>\n",
              "      <td>New York</td>\n",
              "      <td>Cattaraugus</td>\n",
              "      <td>2021-01-02</td>\n",
              "      <td>2630</td>\n",
              "      <td>44</td>\n",
              "    </tr>\n",
              "    <tr>\n",
              "      <th>...</th>\n",
              "      <td>...</td>\n",
              "      <td>...</td>\n",
              "      <td>...</td>\n",
              "      <td>...</td>\n",
              "      <td>...</td>\n",
              "      <td>...</td>\n",
              "    </tr>\n",
              "    <tr>\n",
              "      <th>40694</th>\n",
              "      <td>US</td>\n",
              "      <td>New York</td>\n",
              "      <td>Washington</td>\n",
              "      <td>2021-12-30</td>\n",
              "      <td>8248</td>\n",
              "      <td>91</td>\n",
              "    </tr>\n",
              "    <tr>\n",
              "      <th>40695</th>\n",
              "      <td>US</td>\n",
              "      <td>New York</td>\n",
              "      <td>Wayne</td>\n",
              "      <td>2021-12-30</td>\n",
              "      <td>12231</td>\n",
              "      <td>125</td>\n",
              "    </tr>\n",
              "    <tr>\n",
              "      <th>40696</th>\n",
              "      <td>US</td>\n",
              "      <td>New York</td>\n",
              "      <td>Westchester</td>\n",
              "      <td>2021-12-30</td>\n",
              "      <td>179080</td>\n",
              "      <td>2399</td>\n",
              "    </tr>\n",
              "    <tr>\n",
              "      <th>40697</th>\n",
              "      <td>US</td>\n",
              "      <td>New York</td>\n",
              "      <td>Wyoming</td>\n",
              "      <td>2021-12-30</td>\n",
              "      <td>6198</td>\n",
              "      <td>74</td>\n",
              "    </tr>\n",
              "    <tr>\n",
              "      <th>40698</th>\n",
              "      <td>US</td>\n",
              "      <td>New York</td>\n",
              "      <td>Yates</td>\n",
              "      <td>2021-12-30</td>\n",
              "      <td>2368</td>\n",
              "      <td>36</td>\n",
              "    </tr>\n",
              "  </tbody>\n",
              "</table>\n",
              "<p>23232 rows × 6 columns</p>\n",
              "</div>\n",
              "      <button class=\"colab-df-convert\" onclick=\"convertToInteractive('df-d23e4d84-178d-4cbd-bd7c-3c9dc844d754')\"\n",
              "              title=\"Convert this dataframe to an interactive table.\"\n",
              "              style=\"display:none;\">\n",
              "        \n",
              "  <svg xmlns=\"http://www.w3.org/2000/svg\" height=\"24px\"viewBox=\"0 0 24 24\"\n",
              "       width=\"24px\">\n",
              "    <path d=\"M0 0h24v24H0V0z\" fill=\"none\"/>\n",
              "    <path d=\"M18.56 5.44l.94 2.06.94-2.06 2.06-.94-2.06-.94-.94-2.06-.94 2.06-2.06.94zm-11 1L8.5 8.5l.94-2.06 2.06-.94-2.06-.94L8.5 2.5l-.94 2.06-2.06.94zm10 10l.94 2.06.94-2.06 2.06-.94-2.06-.94-.94-2.06-.94 2.06-2.06.94z\"/><path d=\"M17.41 7.96l-1.37-1.37c-.4-.4-.92-.59-1.43-.59-.52 0-1.04.2-1.43.59L10.3 9.45l-7.72 7.72c-.78.78-.78 2.05 0 2.83L4 21.41c.39.39.9.59 1.41.59.51 0 1.02-.2 1.41-.59l7.78-7.78 2.81-2.81c.8-.78.8-2.07 0-2.86zM5.41 20L4 18.59l7.72-7.72 1.47 1.35L5.41 20z\"/>\n",
              "  </svg>\n",
              "      </button>\n",
              "      \n",
              "  <style>\n",
              "    .colab-df-container {\n",
              "      display:flex;\n",
              "      flex-wrap:wrap;\n",
              "      gap: 12px;\n",
              "    }\n",
              "\n",
              "    .colab-df-convert {\n",
              "      background-color: #E8F0FE;\n",
              "      border: none;\n",
              "      border-radius: 50%;\n",
              "      cursor: pointer;\n",
              "      display: none;\n",
              "      fill: #1967D2;\n",
              "      height: 32px;\n",
              "      padding: 0 0 0 0;\n",
              "      width: 32px;\n",
              "    }\n",
              "\n",
              "    .colab-df-convert:hover {\n",
              "      background-color: #E2EBFA;\n",
              "      box-shadow: 0px 1px 2px rgba(60, 64, 67, 0.3), 0px 1px 3px 1px rgba(60, 64, 67, 0.15);\n",
              "      fill: #174EA6;\n",
              "    }\n",
              "\n",
              "    [theme=dark] .colab-df-convert {\n",
              "      background-color: #3B4455;\n",
              "      fill: #D2E3FC;\n",
              "    }\n",
              "\n",
              "    [theme=dark] .colab-df-convert:hover {\n",
              "      background-color: #434B5C;\n",
              "      box-shadow: 0px 1px 3px 1px rgba(0, 0, 0, 0.15);\n",
              "      filter: drop-shadow(0px 1px 2px rgba(0, 0, 0, 0.3));\n",
              "      fill: #FFFFFF;\n",
              "    }\n",
              "  </style>\n",
              "\n",
              "      <script>\n",
              "        const buttonEl =\n",
              "          document.querySelector('#df-d23e4d84-178d-4cbd-bd7c-3c9dc844d754 button.colab-df-convert');\n",
              "        buttonEl.style.display =\n",
              "          google.colab.kernel.accessAllowed ? 'block' : 'none';\n",
              "\n",
              "        async function convertToInteractive(key) {\n",
              "          const element = document.querySelector('#df-d23e4d84-178d-4cbd-bd7c-3c9dc844d754');\n",
              "          const dataTable =\n",
              "            await google.colab.kernel.invokeFunction('convertToInteractive',\n",
              "                                                     [key], {});\n",
              "          if (!dataTable) return;\n",
              "\n",
              "          const docLinkHtml = 'Like what you see? Visit the ' +\n",
              "            '<a target=\"_blank\" href=https://colab.research.google.com/notebooks/data_table.ipynb>data table notebook</a>'\n",
              "            + ' to learn more about interactive tables.';\n",
              "          element.innerHTML = '';\n",
              "          dataTable['output_type'] = 'display_data';\n",
              "          await google.colab.output.renderOutput(dataTable, element);\n",
              "          const docLink = document.createElement('div');\n",
              "          docLink.innerHTML = docLinkHtml;\n",
              "          element.appendChild(docLink);\n",
              "        }\n",
              "      </script>\n",
              "    </div>\n",
              "  </div>\n",
              "  "
            ]
          },
          "metadata": {},
          "execution_count": 69
        }
      ]
    },
    {
      "cell_type": "code",
      "source": [
        "covid_19_2021.describe() #memuat statistik dasar"
      ],
      "metadata": {
        "colab": {
          "base_uri": "https://localhost:8080/",
          "height": 300
        },
        "id": "5IiTfZh-_9Me",
        "outputId": "5e85d145-0dd5-461f-a1cc-19afcd61785b"
      },
      "execution_count": 70,
      "outputs": [
        {
          "output_type": "execute_result",
          "data": {
            "text/plain": [
              "       Terkonfirmasi     Meninggal\n",
              "count   23232.000000  23232.000000\n",
              "mean    33221.584582    817.734547\n",
              "std     64651.684698   1984.479643\n",
              "min         0.000000      0.000000\n",
              "25%      3460.000000     60.000000\n",
              "50%      6338.500000     99.000000\n",
              "75%     21933.250000    371.000000\n",
              "max    456270.000000  11160.000000"
            ],
            "text/html": [
              "\n",
              "  <div id=\"df-437245f5-1779-4686-be47-b1fee53ca857\">\n",
              "    <div class=\"colab-df-container\">\n",
              "      <div>\n",
              "<style scoped>\n",
              "    .dataframe tbody tr th:only-of-type {\n",
              "        vertical-align: middle;\n",
              "    }\n",
              "\n",
              "    .dataframe tbody tr th {\n",
              "        vertical-align: top;\n",
              "    }\n",
              "\n",
              "    .dataframe thead th {\n",
              "        text-align: right;\n",
              "    }\n",
              "</style>\n",
              "<table border=\"1\" class=\"dataframe\">\n",
              "  <thead>\n",
              "    <tr style=\"text-align: right;\">\n",
              "      <th></th>\n",
              "      <th>Terkonfirmasi</th>\n",
              "      <th>Meninggal</th>\n",
              "    </tr>\n",
              "  </thead>\n",
              "  <tbody>\n",
              "    <tr>\n",
              "      <th>count</th>\n",
              "      <td>23232.000000</td>\n",
              "      <td>23232.000000</td>\n",
              "    </tr>\n",
              "    <tr>\n",
              "      <th>mean</th>\n",
              "      <td>33221.584582</td>\n",
              "      <td>817.734547</td>\n",
              "    </tr>\n",
              "    <tr>\n",
              "      <th>std</th>\n",
              "      <td>64651.684698</td>\n",
              "      <td>1984.479643</td>\n",
              "    </tr>\n",
              "    <tr>\n",
              "      <th>min</th>\n",
              "      <td>0.000000</td>\n",
              "      <td>0.000000</td>\n",
              "    </tr>\n",
              "    <tr>\n",
              "      <th>25%</th>\n",
              "      <td>3460.000000</td>\n",
              "      <td>60.000000</td>\n",
              "    </tr>\n",
              "    <tr>\n",
              "      <th>50%</th>\n",
              "      <td>6338.500000</td>\n",
              "      <td>99.000000</td>\n",
              "    </tr>\n",
              "    <tr>\n",
              "      <th>75%</th>\n",
              "      <td>21933.250000</td>\n",
              "      <td>371.000000</td>\n",
              "    </tr>\n",
              "    <tr>\n",
              "      <th>max</th>\n",
              "      <td>456270.000000</td>\n",
              "      <td>11160.000000</td>\n",
              "    </tr>\n",
              "  </tbody>\n",
              "</table>\n",
              "</div>\n",
              "      <button class=\"colab-df-convert\" onclick=\"convertToInteractive('df-437245f5-1779-4686-be47-b1fee53ca857')\"\n",
              "              title=\"Convert this dataframe to an interactive table.\"\n",
              "              style=\"display:none;\">\n",
              "        \n",
              "  <svg xmlns=\"http://www.w3.org/2000/svg\" height=\"24px\"viewBox=\"0 0 24 24\"\n",
              "       width=\"24px\">\n",
              "    <path d=\"M0 0h24v24H0V0z\" fill=\"none\"/>\n",
              "    <path d=\"M18.56 5.44l.94 2.06.94-2.06 2.06-.94-2.06-.94-.94-2.06-.94 2.06-2.06.94zm-11 1L8.5 8.5l.94-2.06 2.06-.94-2.06-.94L8.5 2.5l-.94 2.06-2.06.94zm10 10l.94 2.06.94-2.06 2.06-.94-2.06-.94-.94-2.06-.94 2.06-2.06.94z\"/><path d=\"M17.41 7.96l-1.37-1.37c-.4-.4-.92-.59-1.43-.59-.52 0-1.04.2-1.43.59L10.3 9.45l-7.72 7.72c-.78.78-.78 2.05 0 2.83L4 21.41c.39.39.9.59 1.41.59.51 0 1.02-.2 1.41-.59l7.78-7.78 2.81-2.81c.8-.78.8-2.07 0-2.86zM5.41 20L4 18.59l7.72-7.72 1.47 1.35L5.41 20z\"/>\n",
              "  </svg>\n",
              "      </button>\n",
              "      \n",
              "  <style>\n",
              "    .colab-df-container {\n",
              "      display:flex;\n",
              "      flex-wrap:wrap;\n",
              "      gap: 12px;\n",
              "    }\n",
              "\n",
              "    .colab-df-convert {\n",
              "      background-color: #E8F0FE;\n",
              "      border: none;\n",
              "      border-radius: 50%;\n",
              "      cursor: pointer;\n",
              "      display: none;\n",
              "      fill: #1967D2;\n",
              "      height: 32px;\n",
              "      padding: 0 0 0 0;\n",
              "      width: 32px;\n",
              "    }\n",
              "\n",
              "    .colab-df-convert:hover {\n",
              "      background-color: #E2EBFA;\n",
              "      box-shadow: 0px 1px 2px rgba(60, 64, 67, 0.3), 0px 1px 3px 1px rgba(60, 64, 67, 0.15);\n",
              "      fill: #174EA6;\n",
              "    }\n",
              "\n",
              "    [theme=dark] .colab-df-convert {\n",
              "      background-color: #3B4455;\n",
              "      fill: #D2E3FC;\n",
              "    }\n",
              "\n",
              "    [theme=dark] .colab-df-convert:hover {\n",
              "      background-color: #434B5C;\n",
              "      box-shadow: 0px 1px 3px 1px rgba(0, 0, 0, 0.15);\n",
              "      filter: drop-shadow(0px 1px 2px rgba(0, 0, 0, 0.3));\n",
              "      fill: #FFFFFF;\n",
              "    }\n",
              "  </style>\n",
              "\n",
              "      <script>\n",
              "        const buttonEl =\n",
              "          document.querySelector('#df-437245f5-1779-4686-be47-b1fee53ca857 button.colab-df-convert');\n",
              "        buttonEl.style.display =\n",
              "          google.colab.kernel.accessAllowed ? 'block' : 'none';\n",
              "\n",
              "        async function convertToInteractive(key) {\n",
              "          const element = document.querySelector('#df-437245f5-1779-4686-be47-b1fee53ca857');\n",
              "          const dataTable =\n",
              "            await google.colab.kernel.invokeFunction('convertToInteractive',\n",
              "                                                     [key], {});\n",
              "          if (!dataTable) return;\n",
              "\n",
              "          const docLinkHtml = 'Like what you see? Visit the ' +\n",
              "            '<a target=\"_blank\" href=https://colab.research.google.com/notebooks/data_table.ipynb>data table notebook</a>'\n",
              "            + ' to learn more about interactive tables.';\n",
              "          element.innerHTML = '';\n",
              "          dataTable['output_type'] = 'display_data';\n",
              "          await google.colab.output.renderOutput(dataTable, element);\n",
              "          const docLink = document.createElement('div');\n",
              "          docLink.innerHTML = docLinkHtml;\n",
              "          element.appendChild(docLink);\n",
              "        }\n",
              "      </script>\n",
              "    </div>\n",
              "  </div>\n",
              "  "
            ]
          },
          "metadata": {},
          "execution_count": 70
        }
      ]
    },
    {
      "cell_type": "code",
      "source": [
        "covid_19_2022 #memuat data yang telah didefinisikan"
      ],
      "metadata": {
        "colab": {
          "base_uri": "https://localhost:8080/",
          "height": 424
        },
        "id": "TuefSBN-AVDH",
        "outputId": "7038214d-da90-4c54-d80d-4962352a2e86"
      },
      "execution_count": 71,
      "outputs": [
        {
          "output_type": "execute_result",
          "data": {
            "text/plain": [
              "      Negara  Provinsi         Kota     Tanggal  Terkonfirmasi  Meninggal\n",
              "40827     US  New York       Albany  2022-01-02          41133        439\n",
              "40828     US  New York     Allegany  2022-01-02           6979        137\n",
              "40829     US  New York        Bronx  2022-01-02         288556       6925\n",
              "40830     US  New York       Broome  2022-01-02          33512        467\n",
              "40831     US  New York  Cattaraugus  2022-01-02          11497        189\n",
              "...      ...       ...          ...         ...            ...        ...\n",
              "64054     US  New York   Washington  2022-12-30          15395        136\n",
              "64055     US  New York        Wayne  2022-12-30          21413        201\n",
              "64056     US  New York  Westchester  2022-12-30         326202       2929\n",
              "64057     US  New York      Wyoming  2022-12-30           9782         90\n",
              "64058     US  New York        Yates  2022-12-30           4348         42\n",
              "\n",
              "[23232 rows x 6 columns]"
            ],
            "text/html": [
              "\n",
              "  <div id=\"df-72419ca9-b3ff-4cfc-b2db-0d9b321f999c\">\n",
              "    <div class=\"colab-df-container\">\n",
              "      <div>\n",
              "<style scoped>\n",
              "    .dataframe tbody tr th:only-of-type {\n",
              "        vertical-align: middle;\n",
              "    }\n",
              "\n",
              "    .dataframe tbody tr th {\n",
              "        vertical-align: top;\n",
              "    }\n",
              "\n",
              "    .dataframe thead th {\n",
              "        text-align: right;\n",
              "    }\n",
              "</style>\n",
              "<table border=\"1\" class=\"dataframe\">\n",
              "  <thead>\n",
              "    <tr style=\"text-align: right;\">\n",
              "      <th></th>\n",
              "      <th>Negara</th>\n",
              "      <th>Provinsi</th>\n",
              "      <th>Kota</th>\n",
              "      <th>Tanggal</th>\n",
              "      <th>Terkonfirmasi</th>\n",
              "      <th>Meninggal</th>\n",
              "    </tr>\n",
              "  </thead>\n",
              "  <tbody>\n",
              "    <tr>\n",
              "      <th>40827</th>\n",
              "      <td>US</td>\n",
              "      <td>New York</td>\n",
              "      <td>Albany</td>\n",
              "      <td>2022-01-02</td>\n",
              "      <td>41133</td>\n",
              "      <td>439</td>\n",
              "    </tr>\n",
              "    <tr>\n",
              "      <th>40828</th>\n",
              "      <td>US</td>\n",
              "      <td>New York</td>\n",
              "      <td>Allegany</td>\n",
              "      <td>2022-01-02</td>\n",
              "      <td>6979</td>\n",
              "      <td>137</td>\n",
              "    </tr>\n",
              "    <tr>\n",
              "      <th>40829</th>\n",
              "      <td>US</td>\n",
              "      <td>New York</td>\n",
              "      <td>Bronx</td>\n",
              "      <td>2022-01-02</td>\n",
              "      <td>288556</td>\n",
              "      <td>6925</td>\n",
              "    </tr>\n",
              "    <tr>\n",
              "      <th>40830</th>\n",
              "      <td>US</td>\n",
              "      <td>New York</td>\n",
              "      <td>Broome</td>\n",
              "      <td>2022-01-02</td>\n",
              "      <td>33512</td>\n",
              "      <td>467</td>\n",
              "    </tr>\n",
              "    <tr>\n",
              "      <th>40831</th>\n",
              "      <td>US</td>\n",
              "      <td>New York</td>\n",
              "      <td>Cattaraugus</td>\n",
              "      <td>2022-01-02</td>\n",
              "      <td>11497</td>\n",
              "      <td>189</td>\n",
              "    </tr>\n",
              "    <tr>\n",
              "      <th>...</th>\n",
              "      <td>...</td>\n",
              "      <td>...</td>\n",
              "      <td>...</td>\n",
              "      <td>...</td>\n",
              "      <td>...</td>\n",
              "      <td>...</td>\n",
              "    </tr>\n",
              "    <tr>\n",
              "      <th>64054</th>\n",
              "      <td>US</td>\n",
              "      <td>New York</td>\n",
              "      <td>Washington</td>\n",
              "      <td>2022-12-30</td>\n",
              "      <td>15395</td>\n",
              "      <td>136</td>\n",
              "    </tr>\n",
              "    <tr>\n",
              "      <th>64055</th>\n",
              "      <td>US</td>\n",
              "      <td>New York</td>\n",
              "      <td>Wayne</td>\n",
              "      <td>2022-12-30</td>\n",
              "      <td>21413</td>\n",
              "      <td>201</td>\n",
              "    </tr>\n",
              "    <tr>\n",
              "      <th>64056</th>\n",
              "      <td>US</td>\n",
              "      <td>New York</td>\n",
              "      <td>Westchester</td>\n",
              "      <td>2022-12-30</td>\n",
              "      <td>326202</td>\n",
              "      <td>2929</td>\n",
              "    </tr>\n",
              "    <tr>\n",
              "      <th>64057</th>\n",
              "      <td>US</td>\n",
              "      <td>New York</td>\n",
              "      <td>Wyoming</td>\n",
              "      <td>2022-12-30</td>\n",
              "      <td>9782</td>\n",
              "      <td>90</td>\n",
              "    </tr>\n",
              "    <tr>\n",
              "      <th>64058</th>\n",
              "      <td>US</td>\n",
              "      <td>New York</td>\n",
              "      <td>Yates</td>\n",
              "      <td>2022-12-30</td>\n",
              "      <td>4348</td>\n",
              "      <td>42</td>\n",
              "    </tr>\n",
              "  </tbody>\n",
              "</table>\n",
              "<p>23232 rows × 6 columns</p>\n",
              "</div>\n",
              "      <button class=\"colab-df-convert\" onclick=\"convertToInteractive('df-72419ca9-b3ff-4cfc-b2db-0d9b321f999c')\"\n",
              "              title=\"Convert this dataframe to an interactive table.\"\n",
              "              style=\"display:none;\">\n",
              "        \n",
              "  <svg xmlns=\"http://www.w3.org/2000/svg\" height=\"24px\"viewBox=\"0 0 24 24\"\n",
              "       width=\"24px\">\n",
              "    <path d=\"M0 0h24v24H0V0z\" fill=\"none\"/>\n",
              "    <path d=\"M18.56 5.44l.94 2.06.94-2.06 2.06-.94-2.06-.94-.94-2.06-.94 2.06-2.06.94zm-11 1L8.5 8.5l.94-2.06 2.06-.94-2.06-.94L8.5 2.5l-.94 2.06-2.06.94zm10 10l.94 2.06.94-2.06 2.06-.94-2.06-.94-.94-2.06-.94 2.06-2.06.94z\"/><path d=\"M17.41 7.96l-1.37-1.37c-.4-.4-.92-.59-1.43-.59-.52 0-1.04.2-1.43.59L10.3 9.45l-7.72 7.72c-.78.78-.78 2.05 0 2.83L4 21.41c.39.39.9.59 1.41.59.51 0 1.02-.2 1.41-.59l7.78-7.78 2.81-2.81c.8-.78.8-2.07 0-2.86zM5.41 20L4 18.59l7.72-7.72 1.47 1.35L5.41 20z\"/>\n",
              "  </svg>\n",
              "      </button>\n",
              "      \n",
              "  <style>\n",
              "    .colab-df-container {\n",
              "      display:flex;\n",
              "      flex-wrap:wrap;\n",
              "      gap: 12px;\n",
              "    }\n",
              "\n",
              "    .colab-df-convert {\n",
              "      background-color: #E8F0FE;\n",
              "      border: none;\n",
              "      border-radius: 50%;\n",
              "      cursor: pointer;\n",
              "      display: none;\n",
              "      fill: #1967D2;\n",
              "      height: 32px;\n",
              "      padding: 0 0 0 0;\n",
              "      width: 32px;\n",
              "    }\n",
              "\n",
              "    .colab-df-convert:hover {\n",
              "      background-color: #E2EBFA;\n",
              "      box-shadow: 0px 1px 2px rgba(60, 64, 67, 0.3), 0px 1px 3px 1px rgba(60, 64, 67, 0.15);\n",
              "      fill: #174EA6;\n",
              "    }\n",
              "\n",
              "    [theme=dark] .colab-df-convert {\n",
              "      background-color: #3B4455;\n",
              "      fill: #D2E3FC;\n",
              "    }\n",
              "\n",
              "    [theme=dark] .colab-df-convert:hover {\n",
              "      background-color: #434B5C;\n",
              "      box-shadow: 0px 1px 3px 1px rgba(0, 0, 0, 0.15);\n",
              "      filter: drop-shadow(0px 1px 2px rgba(0, 0, 0, 0.3));\n",
              "      fill: #FFFFFF;\n",
              "    }\n",
              "  </style>\n",
              "\n",
              "      <script>\n",
              "        const buttonEl =\n",
              "          document.querySelector('#df-72419ca9-b3ff-4cfc-b2db-0d9b321f999c button.colab-df-convert');\n",
              "        buttonEl.style.display =\n",
              "          google.colab.kernel.accessAllowed ? 'block' : 'none';\n",
              "\n",
              "        async function convertToInteractive(key) {\n",
              "          const element = document.querySelector('#df-72419ca9-b3ff-4cfc-b2db-0d9b321f999c');\n",
              "          const dataTable =\n",
              "            await google.colab.kernel.invokeFunction('convertToInteractive',\n",
              "                                                     [key], {});\n",
              "          if (!dataTable) return;\n",
              "\n",
              "          const docLinkHtml = 'Like what you see? Visit the ' +\n",
              "            '<a target=\"_blank\" href=https://colab.research.google.com/notebooks/data_table.ipynb>data table notebook</a>'\n",
              "            + ' to learn more about interactive tables.';\n",
              "          element.innerHTML = '';\n",
              "          dataTable['output_type'] = 'display_data';\n",
              "          await google.colab.output.renderOutput(dataTable, element);\n",
              "          const docLink = document.createElement('div');\n",
              "          docLink.innerHTML = docLinkHtml;\n",
              "          element.appendChild(docLink);\n",
              "        }\n",
              "      </script>\n",
              "    </div>\n",
              "  </div>\n",
              "  "
            ]
          },
          "metadata": {},
          "execution_count": 71
        }
      ]
    },
    {
      "cell_type": "code",
      "source": [
        "covid_19_2022.describe() #memuat statistik dasar"
      ],
      "metadata": {
        "colab": {
          "base_uri": "https://localhost:8080/",
          "height": 300
        },
        "id": "fNaX7TE2AcqW",
        "outputId": "fb70ffc7-36ca-4860-af00-f8a92ab39fce"
      },
      "execution_count": 72,
      "outputs": [
        {
          "output_type": "execute_result",
          "data": {
            "text/plain": [
              "       Terkonfirmasi     Meninggal\n",
              "count   23232.000000  23232.000000\n",
              "mean    87076.780088   1087.771307\n",
              "std    167255.843328   2492.058934\n",
              "min         0.000000      1.000000\n",
              "25%     10389.000000    113.000000\n",
              "50%     19206.000000    185.000000\n",
              "75%     56949.250000    569.000000\n",
              "max    929012.000000  13875.000000"
            ],
            "text/html": [
              "\n",
              "  <div id=\"df-66e41068-2294-4804-856a-ecdd745a3d5a\">\n",
              "    <div class=\"colab-df-container\">\n",
              "      <div>\n",
              "<style scoped>\n",
              "    .dataframe tbody tr th:only-of-type {\n",
              "        vertical-align: middle;\n",
              "    }\n",
              "\n",
              "    .dataframe tbody tr th {\n",
              "        vertical-align: top;\n",
              "    }\n",
              "\n",
              "    .dataframe thead th {\n",
              "        text-align: right;\n",
              "    }\n",
              "</style>\n",
              "<table border=\"1\" class=\"dataframe\">\n",
              "  <thead>\n",
              "    <tr style=\"text-align: right;\">\n",
              "      <th></th>\n",
              "      <th>Terkonfirmasi</th>\n",
              "      <th>Meninggal</th>\n",
              "    </tr>\n",
              "  </thead>\n",
              "  <tbody>\n",
              "    <tr>\n",
              "      <th>count</th>\n",
              "      <td>23232.000000</td>\n",
              "      <td>23232.000000</td>\n",
              "    </tr>\n",
              "    <tr>\n",
              "      <th>mean</th>\n",
              "      <td>87076.780088</td>\n",
              "      <td>1087.771307</td>\n",
              "    </tr>\n",
              "    <tr>\n",
              "      <th>std</th>\n",
              "      <td>167255.843328</td>\n",
              "      <td>2492.058934</td>\n",
              "    </tr>\n",
              "    <tr>\n",
              "      <th>min</th>\n",
              "      <td>0.000000</td>\n",
              "      <td>1.000000</td>\n",
              "    </tr>\n",
              "    <tr>\n",
              "      <th>25%</th>\n",
              "      <td>10389.000000</td>\n",
              "      <td>113.000000</td>\n",
              "    </tr>\n",
              "    <tr>\n",
              "      <th>50%</th>\n",
              "      <td>19206.000000</td>\n",
              "      <td>185.000000</td>\n",
              "    </tr>\n",
              "    <tr>\n",
              "      <th>75%</th>\n",
              "      <td>56949.250000</td>\n",
              "      <td>569.000000</td>\n",
              "    </tr>\n",
              "    <tr>\n",
              "      <th>max</th>\n",
              "      <td>929012.000000</td>\n",
              "      <td>13875.000000</td>\n",
              "    </tr>\n",
              "  </tbody>\n",
              "</table>\n",
              "</div>\n",
              "      <button class=\"colab-df-convert\" onclick=\"convertToInteractive('df-66e41068-2294-4804-856a-ecdd745a3d5a')\"\n",
              "              title=\"Convert this dataframe to an interactive table.\"\n",
              "              style=\"display:none;\">\n",
              "        \n",
              "  <svg xmlns=\"http://www.w3.org/2000/svg\" height=\"24px\"viewBox=\"0 0 24 24\"\n",
              "       width=\"24px\">\n",
              "    <path d=\"M0 0h24v24H0V0z\" fill=\"none\"/>\n",
              "    <path d=\"M18.56 5.44l.94 2.06.94-2.06 2.06-.94-2.06-.94-.94-2.06-.94 2.06-2.06.94zm-11 1L8.5 8.5l.94-2.06 2.06-.94-2.06-.94L8.5 2.5l-.94 2.06-2.06.94zm10 10l.94 2.06.94-2.06 2.06-.94-2.06-.94-.94-2.06-.94 2.06-2.06.94z\"/><path d=\"M17.41 7.96l-1.37-1.37c-.4-.4-.92-.59-1.43-.59-.52 0-1.04.2-1.43.59L10.3 9.45l-7.72 7.72c-.78.78-.78 2.05 0 2.83L4 21.41c.39.39.9.59 1.41.59.51 0 1.02-.2 1.41-.59l7.78-7.78 2.81-2.81c.8-.78.8-2.07 0-2.86zM5.41 20L4 18.59l7.72-7.72 1.47 1.35L5.41 20z\"/>\n",
              "  </svg>\n",
              "      </button>\n",
              "      \n",
              "  <style>\n",
              "    .colab-df-container {\n",
              "      display:flex;\n",
              "      flex-wrap:wrap;\n",
              "      gap: 12px;\n",
              "    }\n",
              "\n",
              "    .colab-df-convert {\n",
              "      background-color: #E8F0FE;\n",
              "      border: none;\n",
              "      border-radius: 50%;\n",
              "      cursor: pointer;\n",
              "      display: none;\n",
              "      fill: #1967D2;\n",
              "      height: 32px;\n",
              "      padding: 0 0 0 0;\n",
              "      width: 32px;\n",
              "    }\n",
              "\n",
              "    .colab-df-convert:hover {\n",
              "      background-color: #E2EBFA;\n",
              "      box-shadow: 0px 1px 2px rgba(60, 64, 67, 0.3), 0px 1px 3px 1px rgba(60, 64, 67, 0.15);\n",
              "      fill: #174EA6;\n",
              "    }\n",
              "\n",
              "    [theme=dark] .colab-df-convert {\n",
              "      background-color: #3B4455;\n",
              "      fill: #D2E3FC;\n",
              "    }\n",
              "\n",
              "    [theme=dark] .colab-df-convert:hover {\n",
              "      background-color: #434B5C;\n",
              "      box-shadow: 0px 1px 3px 1px rgba(0, 0, 0, 0.15);\n",
              "      filter: drop-shadow(0px 1px 2px rgba(0, 0, 0, 0.3));\n",
              "      fill: #FFFFFF;\n",
              "    }\n",
              "  </style>\n",
              "\n",
              "      <script>\n",
              "        const buttonEl =\n",
              "          document.querySelector('#df-66e41068-2294-4804-856a-ecdd745a3d5a button.colab-df-convert');\n",
              "        buttonEl.style.display =\n",
              "          google.colab.kernel.accessAllowed ? 'block' : 'none';\n",
              "\n",
              "        async function convertToInteractive(key) {\n",
              "          const element = document.querySelector('#df-66e41068-2294-4804-856a-ecdd745a3d5a');\n",
              "          const dataTable =\n",
              "            await google.colab.kernel.invokeFunction('convertToInteractive',\n",
              "                                                     [key], {});\n",
              "          if (!dataTable) return;\n",
              "\n",
              "          const docLinkHtml = 'Like what you see? Visit the ' +\n",
              "            '<a target=\"_blank\" href=https://colab.research.google.com/notebooks/data_table.ipynb>data table notebook</a>'\n",
              "            + ' to learn more about interactive tables.';\n",
              "          element.innerHTML = '';\n",
              "          dataTable['output_type'] = 'display_data';\n",
              "          await google.colab.output.renderOutput(dataTable, element);\n",
              "          const docLink = document.createElement('div');\n",
              "          docLink.innerHTML = docLinkHtml;\n",
              "          element.appendChild(docLink);\n",
              "        }\n",
              "      </script>\n",
              "    </div>\n",
              "  </div>\n",
              "  "
            ]
          },
          "metadata": {},
          "execution_count": 72
        }
      ]
    },
    {
      "cell_type": "markdown",
      "source": [
        "Mengekstrak data tabel untuk mengetahui jumlah, min, max, dan rata-rata data terkonfirmasi dan meninggal"
      ],
      "metadata": {
        "id": "78BbWWQpJges"
      }
    },
    {
      "cell_type": "code",
      "source": [
        "print('Jumlah Kasus Terkonfirmasi Covid-19 Tahun 2020 : ',covid_19_2020['Terkonfirmasi'].sum()) #memuat nilai jumlah terkonfirmasi\n",
        "print('Jumlah Kasus Meninggal     Covid-19 Tahun 2020 : ',covid_19_2020['Meninggal'].sum())     #memuat nilai jumlah meninggal\n",
        "print('Jumlah Kasus Terkonfirmasi Covid-19 Tahun 2021 : ',covid_19_2021['Terkonfirmasi'].sum()) #memuat nilai jumlah terkonfirmasi\n",
        "print('Jumlah Kasus Meninggal     Covid-19 Tahun 2021 : ',covid_19_2021['Meninggal'].sum())     #memuat nilai jumlah meninggal\n",
        "print('Jumlah Kasus Terkonfirmasi Covid-19 Tahun 2022 : ',covid_19_2022['Terkonfirmasi'].sum()) #memuat nilai jumlah terkonfirmasi\n",
        "print('Jumlah Kasus Meninggal     Covid-19 Tahun 2022 : ',covid_19_2022['Meninggal'].sum())     #memuat nilai jumlah meninggal"
      ],
      "metadata": {
        "colab": {
          "base_uri": "https://localhost:8080/"
        },
        "id": "3ORehCZOFkG3",
        "outputId": "6bc99c87-dc19-4b8c-e612-989e41f46ef2"
      },
      "execution_count": 255,
      "outputs": [
        {
          "output_type": "stream",
          "name": "stdout",
          "text": [
            "Jumlah Kasus Terkonfirmasi Covid-19 Tahun 2020 :  124102393\n",
            "Jumlah Kasus Meninggal     Covid-19 Tahun 2020 :  8337901\n",
            "Jumlah Kasus Terkonfirmasi Covid-19 Tahun 2021 :  771803853\n",
            "Jumlah Kasus Meninggal     Covid-19 Tahun 2021 :  18997609\n",
            "Jumlah Kasus Terkonfirmasi Covid-19 Tahun 2022 :  2022967755\n",
            "Jumlah Kasus Meninggal     Covid-19 Tahun 2022 :  25271103\n"
          ]
        }
      ]
    },
    {
      "cell_type": "code",
      "source": [
        "print('Rata-Rata Kasus Terkonfirmasi  Covid-19 Tahun 2020  : ',covid_19_2020['Terkonfirmasi'].mean()) #memuat nilai rata-rata terkonfirmasi\n",
        "print('Rata-Rata Kasus Meninggal      Covid-19 Tahun 2020  : ',covid_19_2020['Meninggal'].mean())     #memuat nilai rata-rata meninggal\n",
        "print('Rata-Rata Kasus Terkonfirmasi  Covid-19 Tahun 2021  : ',covid_19_2021['Terkonfirmasi'].mean()) #memuat nilai rata-rata terkonfirmasi\n",
        "print('Rata-Rata Kasus Meninggal      Covid-19 Tahun 2021  : ',covid_19_2021['Meninggal'].mean())     #memuat nilai rata-rata meninggal\n",
        "print('Rata-Rata Kasus Terkonfirmasi  Covid-19 Tahun 2022  : ',covid_19_2022['Terkonfirmasi'].mean()) #memuat nilai rata-rata terkonfirmasi\n",
        "print('Rata-Rata Kasus Meninggal      Covid-19 Tahun 2022  : ',covid_19_2022['Meninggal'].mean())     #memuat nilai rata-rata meninggal"
      ],
      "metadata": {
        "colab": {
          "base_uri": "https://localhost:8080/"
        },
        "id": "2yAxUgB3GMP3",
        "outputId": "108b307a-5e8a-4ff9-a59c-73cb5dd71b30"
      },
      "execution_count": 256,
      "outputs": [
        {
          "output_type": "stream",
          "name": "stdout",
          "text": [
            "Rata-Rata Kasus Terkonfirmasi  Covid-19 Tahun 2020  :  7157.413518657362\n",
            "Rata-Rata Kasus Meninggal      Covid-19 Tahun 2020  :  480.875540688621\n",
            "Rata-Rata Kasus Terkonfirmasi  Covid-19 Tahun 2021  :  33221.58458161157\n",
            "Rata-Rata Kasus Meninggal      Covid-19 Tahun 2021  :  817.7345471763085\n",
            "Rata-Rata Kasus Terkonfirmasi  Covid-19 Tahun 2022  :  87076.78008780992\n",
            "Rata-Rata Kasus Meninggal      Covid-19 Tahun 2022  :  1087.7713068181818\n"
          ]
        }
      ]
    },
    {
      "cell_type": "code",
      "source": [
        "print('Jumlah Terkecil Kasus Terkonfirmasi  Covid-19 Tahun 2020  : ',covid_19_2020['Terkonfirmasi'].min()) #memuat nilai minimum terkonfirmasi\n",
        "print('Jumlah Terkecil Kasus Meninggal      Covid-19 Tahun 2020  : ',covid_19_2020['Meninggal'].min())     #memuat nilai minimum meninggal\n",
        "print('Jumlah Terkecil Kasus Terkonfirmasi  Covid-19 Tahun 2021  : ',covid_19_2021['Terkonfirmasi'].min()) #memuat nilai minimum terkonfirmasi\n",
        "print('Jumlah Terkecil Kasus Meninggal      Covid-19 Tahun 2021  : ',covid_19_2021['Meninggal'].min())     #memuat nilai minimum meninggal\n",
        "print('Jumlah Terkecil Kasus Terkonfirmasi  Covid-19 Tahun 2022  : ',covid_19_2022['Terkonfirmasi'].min()) #memuat nilai minimum terkonfirmasi\n",
        "print('Jumlah Terkecil Kasus Meninggal      Covid-19 Tahun 2022  : ',covid_19_2022['Meninggal'].min())     #memuat nilai minimum meninggal"
      ],
      "metadata": {
        "colab": {
          "base_uri": "https://localhost:8080/"
        },
        "id": "KNN5A2E0ITRf",
        "outputId": "39b21e67-f4f0-407f-da51-f04b9b0e99a7"
      },
      "execution_count": 257,
      "outputs": [
        {
          "output_type": "stream",
          "name": "stdout",
          "text": [
            "Jumlah Terkecil Kasus Terkonfirmasi  Covid-19 Tahun 2020  :  0\n",
            "Jumlah Terkecil Kasus Meninggal      Covid-19 Tahun 2020  :  0\n",
            "Jumlah Terkecil Kasus Terkonfirmasi  Covid-19 Tahun 2021  :  0\n",
            "Jumlah Terkecil Kasus Meninggal      Covid-19 Tahun 2021  :  0\n",
            "Jumlah Terkecil Kasus Terkonfirmasi  Covid-19 Tahun 2022  :  0\n",
            "Jumlah Terkecil Kasus Meninggal      Covid-19 Tahun 2022  :  1\n"
          ]
        }
      ]
    },
    {
      "cell_type": "code",
      "source": [
        "print('Jumlah Terbanyak Kasus Terkonfirmasi Covid-19 Tahun 2020  : ',covid_19_2020['Terkonfirmasi'].max())  #memuat nilai maksimum terkonfirmasi\n",
        "print('Jumlah Terbanyak Kasus Meninggal     Covid-19 Tahun 2020  : ',covid_19_2020['Meninggal'].max())      #memuat nilai maksimum meninggal\n",
        "print('Jumlah Terbanyak Kasus Terkonfirmasi Covid-19 Tahun 2021  : ',covid_19_2021['Terkonfirmasi'].max())  #memuat nilai maksimum terkonfirmasi\n",
        "print('Jumlah Terbanyak Kasus Meninggal     Covid-19 Tahun 2021  : ',covid_19_2021['Meninggal'].max())      #memuat nilai maksimum meninggal\n",
        "print('Jumlah Terbanyak Kasus Terkonfirmasi Covid-19 Tahun 2022  : ',covid_19_2022['Terkonfirmasi'].max())  #memuat nilai maksimum terkonfirmasi\n",
        "print('Jumlah Terbanyak Kasus Meninggal     Covid-19 Tahun 2022  : ',covid_19_2022['Meninggal'].max())      #memuat nilai maksimum meninggal"
      ],
      "metadata": {
        "colab": {
          "base_uri": "https://localhost:8080/"
        },
        "id": "zpx3yqHuJZCM",
        "outputId": "ecf0e454-153c-4cd4-c33c-350e183032ba"
      },
      "execution_count": 258,
      "outputs": [
        {
          "output_type": "stream",
          "name": "stdout",
          "text": [
            "Jumlah Terbanyak Kasus Terkonfirmasi Covid-19 Tahun 2020  :  233969\n",
            "Jumlah Terbanyak Kasus Meninggal     Covid-19 Tahun 2020  :  23689\n",
            "Jumlah Terbanyak Kasus Terkonfirmasi Covid-19 Tahun 2021  :  456270\n",
            "Jumlah Terbanyak Kasus Meninggal     Covid-19 Tahun 2021  :  11160\n",
            "Jumlah Terbanyak Kasus Terkonfirmasi Covid-19 Tahun 2022  :  929012\n",
            "Jumlah Terbanyak Kasus Meninggal     Covid-19 Tahun 2022  :  13875\n"
          ]
        }
      ]
    },
    {
      "cell_type": "markdown",
      "source": [
        "Mendapatkan Jumlah, Minimum, Maksimum, dan Rata-rata orang \"Terkonfirmasi\" dan \"Meninggal\" pada rentang tahun 2020 hingga 2022"
      ],
      "metadata": {
        "id": "ANTkeAHZSj3J"
      }
    },
    {
      "cell_type": "code",
      "source": [
        "df_covid_statistik = {'Tahun': ['2020','2021','2022'],                    #membuat tabel baru dengan pd.dataframe\n",
        "            'Jumlah Terkonfirmasi': [124102393, 771803853, 2022967755],\n",
        "            'Minimum Terkonfirmasi': [0, 0, 0,],\n",
        "            'Maksimum Terkonfirmasi': [233969, 456270, 929012],\n",
        "            'Rata-Rata Terkonfirmasi': [7157.41, 33221.58, 87076.78],\n",
        "            'Jumlah Meninggal': [8337901, 18997609, 25271103],\n",
        "            'Minimum Meninggal': [0, 0, 1],\n",
        "            'Maksimum Meninggal': [23689, 11160, 13875],\n",
        "            'Rata-Rata Meninggal': [480.87, 817.73, 1087.77]\n",
        "}\n",
        "df_covid_2 = pd.DataFrame(df_covid_statistik)       #membuat tabel baru dengan pd.dataframe\n",
        "pd.set_option(\"display.max.columns\", None)\n",
        "pd.set_option(\"display.precision\", 2)\n",
        "df_covid_2                                          #membuat tabel baru dengan pd.dataframe"
      ],
      "metadata": {
        "colab": {
          "base_uri": "https://localhost:8080/",
          "height": 205
        },
        "id": "c_quhlcUFoHt",
        "outputId": "27642547-bd07-4d69-f701-2b6c703ccc18"
      },
      "execution_count": 251,
      "outputs": [
        {
          "output_type": "execute_result",
          "data": {
            "text/plain": [
              "  Tahun  Jumlah Terkonfirmasi  Minimum Terkonfirmasi  Maksimum Terkonfirmasi  \\\n",
              "0  2020             124102393                      0                  233969   \n",
              "1  2021             771803853                      0                  456270   \n",
              "2  2022            2022967755                      0                  929012   \n",
              "\n",
              "   Rata-Rata Terkonfirmasi  Jumlah Meninggal  Minimum Meninggal  \\\n",
              "0                  7157.41           8337901                  0   \n",
              "1                 33221.58          18997609                  0   \n",
              "2                 87076.78          25271103                  1   \n",
              "\n",
              "   Maksimum Meninggal  Rata-Rata Meninggal  \n",
              "0               23689               480.87  \n",
              "1               11160               817.73  \n",
              "2               13875              1087.77  "
            ],
            "text/html": [
              "\n",
              "  <div id=\"df-a2d52426-688c-46e0-975d-21ad582caf4c\">\n",
              "    <div class=\"colab-df-container\">\n",
              "      <div>\n",
              "<style scoped>\n",
              "    .dataframe tbody tr th:only-of-type {\n",
              "        vertical-align: middle;\n",
              "    }\n",
              "\n",
              "    .dataframe tbody tr th {\n",
              "        vertical-align: top;\n",
              "    }\n",
              "\n",
              "    .dataframe thead th {\n",
              "        text-align: right;\n",
              "    }\n",
              "</style>\n",
              "<table border=\"1\" class=\"dataframe\">\n",
              "  <thead>\n",
              "    <tr style=\"text-align: right;\">\n",
              "      <th></th>\n",
              "      <th>Tahun</th>\n",
              "      <th>Jumlah Terkonfirmasi</th>\n",
              "      <th>Minimum Terkonfirmasi</th>\n",
              "      <th>Maksimum Terkonfirmasi</th>\n",
              "      <th>Rata-Rata Terkonfirmasi</th>\n",
              "      <th>Jumlah Meninggal</th>\n",
              "      <th>Minimum Meninggal</th>\n",
              "      <th>Maksimum Meninggal</th>\n",
              "      <th>Rata-Rata Meninggal</th>\n",
              "    </tr>\n",
              "  </thead>\n",
              "  <tbody>\n",
              "    <tr>\n",
              "      <th>0</th>\n",
              "      <td>2020</td>\n",
              "      <td>124102393</td>\n",
              "      <td>0</td>\n",
              "      <td>233969</td>\n",
              "      <td>7157.41</td>\n",
              "      <td>8337901</td>\n",
              "      <td>0</td>\n",
              "      <td>23689</td>\n",
              "      <td>480.87</td>\n",
              "    </tr>\n",
              "    <tr>\n",
              "      <th>1</th>\n",
              "      <td>2021</td>\n",
              "      <td>771803853</td>\n",
              "      <td>0</td>\n",
              "      <td>456270</td>\n",
              "      <td>33221.58</td>\n",
              "      <td>18997609</td>\n",
              "      <td>0</td>\n",
              "      <td>11160</td>\n",
              "      <td>817.73</td>\n",
              "    </tr>\n",
              "    <tr>\n",
              "      <th>2</th>\n",
              "      <td>2022</td>\n",
              "      <td>2022967755</td>\n",
              "      <td>0</td>\n",
              "      <td>929012</td>\n",
              "      <td>87076.78</td>\n",
              "      <td>25271103</td>\n",
              "      <td>1</td>\n",
              "      <td>13875</td>\n",
              "      <td>1087.77</td>\n",
              "    </tr>\n",
              "  </tbody>\n",
              "</table>\n",
              "</div>\n",
              "      <button class=\"colab-df-convert\" onclick=\"convertToInteractive('df-a2d52426-688c-46e0-975d-21ad582caf4c')\"\n",
              "              title=\"Convert this dataframe to an interactive table.\"\n",
              "              style=\"display:none;\">\n",
              "        \n",
              "  <svg xmlns=\"http://www.w3.org/2000/svg\" height=\"24px\"viewBox=\"0 0 24 24\"\n",
              "       width=\"24px\">\n",
              "    <path d=\"M0 0h24v24H0V0z\" fill=\"none\"/>\n",
              "    <path d=\"M18.56 5.44l.94 2.06.94-2.06 2.06-.94-2.06-.94-.94-2.06-.94 2.06-2.06.94zm-11 1L8.5 8.5l.94-2.06 2.06-.94-2.06-.94L8.5 2.5l-.94 2.06-2.06.94zm10 10l.94 2.06.94-2.06 2.06-.94-2.06-.94-.94-2.06-.94 2.06-2.06.94z\"/><path d=\"M17.41 7.96l-1.37-1.37c-.4-.4-.92-.59-1.43-.59-.52 0-1.04.2-1.43.59L10.3 9.45l-7.72 7.72c-.78.78-.78 2.05 0 2.83L4 21.41c.39.39.9.59 1.41.59.51 0 1.02-.2 1.41-.59l7.78-7.78 2.81-2.81c.8-.78.8-2.07 0-2.86zM5.41 20L4 18.59l7.72-7.72 1.47 1.35L5.41 20z\"/>\n",
              "  </svg>\n",
              "      </button>\n",
              "      \n",
              "  <style>\n",
              "    .colab-df-container {\n",
              "      display:flex;\n",
              "      flex-wrap:wrap;\n",
              "      gap: 12px;\n",
              "    }\n",
              "\n",
              "    .colab-df-convert {\n",
              "      background-color: #E8F0FE;\n",
              "      border: none;\n",
              "      border-radius: 50%;\n",
              "      cursor: pointer;\n",
              "      display: none;\n",
              "      fill: #1967D2;\n",
              "      height: 32px;\n",
              "      padding: 0 0 0 0;\n",
              "      width: 32px;\n",
              "    }\n",
              "\n",
              "    .colab-df-convert:hover {\n",
              "      background-color: #E2EBFA;\n",
              "      box-shadow: 0px 1px 2px rgba(60, 64, 67, 0.3), 0px 1px 3px 1px rgba(60, 64, 67, 0.15);\n",
              "      fill: #174EA6;\n",
              "    }\n",
              "\n",
              "    [theme=dark] .colab-df-convert {\n",
              "      background-color: #3B4455;\n",
              "      fill: #D2E3FC;\n",
              "    }\n",
              "\n",
              "    [theme=dark] .colab-df-convert:hover {\n",
              "      background-color: #434B5C;\n",
              "      box-shadow: 0px 1px 3px 1px rgba(0, 0, 0, 0.15);\n",
              "      filter: drop-shadow(0px 1px 2px rgba(0, 0, 0, 0.3));\n",
              "      fill: #FFFFFF;\n",
              "    }\n",
              "  </style>\n",
              "\n",
              "      <script>\n",
              "        const buttonEl =\n",
              "          document.querySelector('#df-a2d52426-688c-46e0-975d-21ad582caf4c button.colab-df-convert');\n",
              "        buttonEl.style.display =\n",
              "          google.colab.kernel.accessAllowed ? 'block' : 'none';\n",
              "\n",
              "        async function convertToInteractive(key) {\n",
              "          const element = document.querySelector('#df-a2d52426-688c-46e0-975d-21ad582caf4c');\n",
              "          const dataTable =\n",
              "            await google.colab.kernel.invokeFunction('convertToInteractive',\n",
              "                                                     [key], {});\n",
              "          if (!dataTable) return;\n",
              "\n",
              "          const docLinkHtml = 'Like what you see? Visit the ' +\n",
              "            '<a target=\"_blank\" href=https://colab.research.google.com/notebooks/data_table.ipynb>data table notebook</a>'\n",
              "            + ' to learn more about interactive tables.';\n",
              "          element.innerHTML = '';\n",
              "          dataTable['output_type'] = 'display_data';\n",
              "          await google.colab.output.renderOutput(dataTable, element);\n",
              "          const docLink = document.createElement('div');\n",
              "          docLink.innerHTML = docLinkHtml;\n",
              "          element.appendChild(docLink);\n",
              "        }\n",
              "      </script>\n",
              "    </div>\n",
              "  </div>\n",
              "  "
            ]
          },
          "metadata": {},
          "execution_count": 251
        }
      ]
    },
    {
      "cell_type": "markdown",
      "source": [
        "### Mencari Data Covid-19 Perkuartil"
      ],
      "metadata": {
        "id": "mcXRk78jJRlq"
      }
    },
    {
      "cell_type": "code",
      "source": [
        "data_kuartil = df1.copy() #membuat copy data"
      ],
      "metadata": {
        "id": "wpR4p6ZNJljG"
      },
      "execution_count": 155,
      "outputs": []
    },
    {
      "cell_type": "code",
      "source": [
        "data_kuartil_1_2020 = df1_rename[     #membuat definisi untuk data kuartil\n",
        "    (df1[\"date\"] >= '2020-01-01') &\n",
        "    (df1[\"date\"] <= '2020-03-31')\n",
        "]\n",
        "data_kuartil_2_2020 = df1_rename[\n",
        "    (df1[\"date\"] >= '2020-04-01') &\n",
        "    (df1[\"date\"] <= '2020-06-30')\n",
        "]\n",
        "data_kuartil_3_2020 = df1_rename[\n",
        "    (df1[\"date\"] >= '2020-07-01') &\n",
        "    (df1[\"date\"] <= '2020-09-31')\n",
        "]\n",
        "data_kuartil_4_2020 = df1_rename[\n",
        "    (df1[\"date\"] >= '2020-10-01') &\n",
        "    (df1[\"date\"] <= '2020-12-31')\n",
        "]"
      ],
      "metadata": {
        "id": "-0GdrSklQbEP"
      },
      "execution_count": 92,
      "outputs": []
    },
    {
      "cell_type": "code",
      "source": [
        "print(data_kuartil_1_2020)  #memuat data kuartil\n",
        "print(data_kuartil_2_2020)\n",
        "print(data_kuartil_3_2020)\n",
        "print(data_kuartil_4_2020)"
      ],
      "metadata": {
        "colab": {
          "base_uri": "https://localhost:8080/"
        },
        "id": "lqrd5IZnqiqe",
        "outputId": "9b30cbb0-c1e7-47e6-b787-f5391c00a175"
      },
      "execution_count": 93,
      "outputs": [
        {
          "output_type": "stream",
          "name": "stdout",
          "text": [
            "    Negara  Provinsi           Kota     Tanggal  Terkonfirmasi  Meninggal\n",
            "0       US  New York  New York City  2020-03-10            173          0\n",
            "1       US  New York  New York City  2020-03-11            220          0\n",
            "2       US  New York  New York City  2020-03-12            328          0\n",
            "3       US  New York  New York City  2020-03-13            421          0\n",
            "4       US  New York  New York City  2020-03-14            525          2\n",
            "..     ...       ...            ...         ...            ...        ...\n",
            "631     US  New York         Warren  2020-03-31             18          0\n",
            "632     US  New York     Washington  2020-03-31              9          0\n",
            "633     US  New York          Wayne  2020-03-31             15          0\n",
            "634     US  New York    Westchester  2020-03-31           9967         10\n",
            "635     US  New York        Wyoming  2020-03-31              8          1\n",
            "\n",
            "[636 rows x 6 columns]\n",
            "     Negara  Provinsi         Kota     Tanggal  Terkonfirmasi  Meninggal\n",
            "636      US  New York       Albany  2020-04-01            240          1\n",
            "637      US  New York     Allegany  2020-04-01             10          1\n",
            "638      US  New York       Broome  2020-04-01             42          3\n",
            "639      US  New York  Cattaraugus  2020-04-01              7          0\n",
            "640      US  New York       Cayuga  2020-04-01              4          0\n",
            "...     ...       ...          ...         ...            ...        ...\n",
            "5999     US  New York   Washington  2020-06-30            246         14\n",
            "6000     US  New York        Wayne  2020-06-30            170          3\n",
            "6001     US  New York  Westchester  2020-06-30          34838       1425\n",
            "6002     US  New York      Wyoming  2020-06-30             95          5\n",
            "6003     US  New York        Yates  2020-06-30             46          6\n",
            "\n",
            "[5368 rows x 6 columns]\n",
            "      Negara  Provinsi         Kota     Tanggal  Terkonfirmasi  Meninggal\n",
            "6004      US  New York       Albany  2020-07-01           2112        121\n",
            "6005      US  New York     Allegany  2020-07-01             61          0\n",
            "6006      US  New York       Broome  2020-07-01            722         58\n",
            "6007      US  New York  Cattaraugus  2020-07-01            123          6\n",
            "6008      US  New York       Cayuga  2020-07-01            119          2\n",
            "...      ...       ...          ...         ...            ...        ...\n",
            "11551     US  New York   Washington  2020-09-30            302         14\n",
            "11552     US  New York        Wayne  2020-09-30            323          5\n",
            "11553     US  New York  Westchester  2020-09-30          38239       1454\n",
            "11554     US  New York      Wyoming  2020-09-30            137          5\n",
            "11555     US  New York        Yates  2020-09-30             64          7\n",
            "\n",
            "[5552 rows x 6 columns]\n",
            "      Negara  Provinsi         Kota     Tanggal  Terkonfirmasi  Meninggal\n",
            "11556     US  New York       Albany  2020-10-01           3133        134\n",
            "11557     US  New York     Allegany  2020-10-01            119          1\n",
            "11558     US  New York        Bronx  2020-10-01          53169       4955\n",
            "11559     US  New York       Broome  2020-10-01           1729         82\n",
            "11560     US  New York  Cattaraugus  2020-10-01            279          6\n",
            "...      ...       ...          ...         ...            ...        ...\n",
            "17398     US  New York   Washington  2020-12-31            825         15\n",
            "17399     US  New York        Wayne  2020-12-31           2559         36\n",
            "17400     US  New York  Westchester  2020-12-31          69661       1664\n",
            "17401     US  New York      Wyoming  2020-12-31           1367         22\n",
            "17402     US  New York        Yates  2020-12-31            501         10\n",
            "\n",
            "[5847 rows x 6 columns]\n"
          ]
        }
      ]
    },
    {
      "cell_type": "code",
      "source": [
        "data_kuartil_1_2021 = df1_rename[     #membuat definisi untuk data kuartil\n",
        "    (df1[\"date\"] >= '2021-01-01') &\n",
        "    (df1[\"date\"] <= '2021-03-31')\n",
        "]\n",
        "data_kuartil_2_2021 = df1_rename[\n",
        "    (df1[\"date\"] >= '2021-03-01') &\n",
        "    (df1[\"date\"] <= '2021-06-30')\n",
        "]\n",
        "data_kuartil_3_2021 = df1_rename[\n",
        "    (df1[\"date\"] >= '2021-07-01') &\n",
        "    (df1[\"date\"] <= '2021-09-31')\n",
        "]\n",
        "data_kuartil_4_2021 = df1_rename[\n",
        "    (df1[\"date\"] >= '2021-10-01') &\n",
        "    (df1[\"date\"] <= '2021-12-31')\n",
        "]"
      ],
      "metadata": {
        "id": "4mC9yNC-T07g"
      },
      "execution_count": 94,
      "outputs": []
    },
    {
      "cell_type": "code",
      "source": [
        "print(data_kuartil_1_2021)    #memuat data kuartil\n",
        "print(data_kuartil_2_2021)\n",
        "print(data_kuartil_3_2021)\n",
        "print(data_kuartil_4_2021)"
      ],
      "metadata": {
        "colab": {
          "base_uri": "https://localhost:8080/"
        },
        "id": "DK6wPrCPrCpe",
        "outputId": "ee3fe072-649c-48b7-955b-f68b86044704"
      },
      "execution_count": 95,
      "outputs": [
        {
          "output_type": "stream",
          "name": "stdout",
          "text": [
            "      Negara  Provinsi         Kota     Tanggal  Terkonfirmasi  Meninggal\n",
            "17403     US  New York       Albany  2021-01-01          11917        205\n",
            "17404     US  New York     Allegany  2021-01-01           1876         73\n",
            "17405     US  New York        Bronx  2021-01-01          86505       5140\n",
            "17406     US  New York       Broome  2021-01-01           8301        206\n",
            "17407     US  New York  Cattaraugus  2021-01-01           2585         44\n",
            "...      ...       ...          ...         ...            ...        ...\n",
            "23158     US  New York   Washington  2021-03-31           2676         55\n",
            "23159     US  New York        Wayne  2021-03-31           4842         66\n",
            "23160     US  New York  Westchester  2021-03-31         119732       2198\n",
            "23161     US  New York      Wyoming  2021-03-31           3069         50\n",
            "23162     US  New York        Yates  2021-03-31           1058         26\n",
            "\n",
            "[5760 rows x 6 columns]\n",
            "      Negara  Provinsi         Kota     Tanggal  Terkonfirmasi  Meninggal\n",
            "21179     US  New York       Albany  2021-03-01          20890        332\n",
            "21180     US  New York     Allegany  2021-03-01           2904         81\n",
            "21181     US  New York        Bronx  2021-03-01         144519       5881\n",
            "21182     US  New York       Broome  2021-03-01          14870        336\n",
            "21183     US  New York  Cattaraugus  2021-03-01           4420         76\n",
            "...      ...       ...          ...         ...            ...        ...\n",
            "28982     US  New York   Washington  2021-06-30           3167         55\n",
            "28983     US  New York        Wayne  2021-06-30           5796         71\n",
            "28984     US  New York  Westchester  2021-06-30         129866       2293\n",
            "28985     US  New York      Wyoming  2021-06-30           3588         53\n",
            "28986     US  New York        Yates  2021-06-30           1180         26\n",
            "\n",
            "[7808 rows x 6 columns]\n",
            "      Negara  Provinsi         Kota     Tanggal  Terkonfirmasi  Meninggal\n",
            "28987     US  New York       Albany  2021-07-01          24735        357\n",
            "28988     US  New York     Allegany  2021-07-01           3562         87\n",
            "28989     US  New York        Bronx  2021-07-01         184007       6582\n",
            "28990     US  New York       Broome  2021-07-01          18656        366\n",
            "28991     US  New York  Cattaraugus  2021-07-01           5725         92\n",
            "...      ...       ...          ...         ...            ...        ...\n",
            "34870     US  New York   Washington  2021-09-30           4149         65\n",
            "34871     US  New York        Wayne  2021-09-30           7260         79\n",
            "34872     US  New York  Westchester  2021-09-30         141731       2332\n",
            "34873     US  New York      Wyoming  2021-09-30           4024         54\n",
            "34874     US  New York        Yates  2021-09-30           1438         26\n",
            "\n",
            "[5888 rows x 6 columns]\n",
            "      Negara  Provinsi         Kota     Tanggal  Terkonfirmasi  Meninggal\n",
            "34875     US  New York       Albany  2021-10-01          29190        373\n",
            "34876     US  New York     Allegany  2021-10-01           4168         93\n",
            "34877     US  New York        Bronx  2021-10-01         204075       6720\n",
            "34878     US  New York       Broome  2021-10-01          22611        392\n",
            "34879     US  New York  Cattaraugus  2021-10-01           7000        100\n",
            "...      ...       ...          ...         ...            ...        ...\n",
            "40758     US  New York   Washington  2021-12-31           8325         91\n",
            "40759     US  New York        Wayne  2021-12-31          12344        125\n",
            "40760     US  New York  Westchester  2021-12-31         182682       2403\n",
            "40761     US  New York      Wyoming  2021-12-31           6254         74\n",
            "40762     US  New York        Yates  2021-12-31           2390         36\n",
            "\n",
            "[5888 rows x 6 columns]\n"
          ]
        }
      ]
    },
    {
      "cell_type": "code",
      "source": [
        "data_kuartil_1_2022 = df1_rename[     #membuat definisi untuk data kuartil\n",
        "    (df1[\"date\"] >= '2022-01-01') &\n",
        "    (df1[\"date\"] <= '2022-03-31')\n",
        "]\n",
        "data_kuartil_2_2022 = df1_rename[\n",
        "    (df1[\"date\"] >= '2022-03-01') &\n",
        "    (df1[\"date\"] <= '2022-06-30')\n",
        "]\n",
        "data_kuartil_3_2022 = df1_rename[\n",
        "    (df1[\"date\"] >= '2022-07-01') &\n",
        "    (df1[\"date\"] <= '2022-09-31')\n",
        "]\n",
        "data_kuartil_4_2022 = df1_rename[\n",
        "    (df1[\"date\"] >= '2022-10-01') &\n",
        "    (df1[\"date\"] <= '2022-12-31')\n",
        "]"
      ],
      "metadata": {
        "id": "ic3o6SsLWiJI"
      },
      "execution_count": 96,
      "outputs": []
    },
    {
      "cell_type": "code",
      "source": [
        "print(data_kuartil_1_2022)      #memuat data kuartil\n",
        "print(data_kuartil_2_2022)\n",
        "print(data_kuartil_3_2022)\n",
        "print(data_kuartil_4_2022)"
      ],
      "metadata": {
        "colab": {
          "base_uri": "https://localhost:8080/"
        },
        "id": "oS_miRdrUl_C",
        "outputId": "6fe22d4a-8a94-403a-8b16-4d985b8d8252"
      },
      "execution_count": 97,
      "outputs": [
        {
          "output_type": "stream",
          "name": "stdout",
          "text": [
            "      Negara  Provinsi         Kota     Tanggal  Terkonfirmasi  Meninggal\n",
            "40763     US  New York       Albany  2022-01-01          41133        439\n",
            "40764     US  New York     Allegany  2022-01-01           6979        137\n",
            "40765     US  New York        Bronx  2022-01-01         281573       6913\n",
            "40766     US  New York       Broome  2022-01-01          33512        466\n",
            "40767     US  New York  Cattaraugus  2022-01-01          11497        189\n",
            "...      ...       ...          ...         ...            ...        ...\n",
            "46518     US  New York   Washington  2022-03-31          12035        113\n",
            "46519     US  New York        Wayne  2022-03-31          17155        171\n",
            "46520     US  New York  Westchester  2022-03-31         250208       2702\n",
            "46521     US  New York      Wyoming  2022-03-31           8266         82\n",
            "46522     US  New York        Yates  2022-03-31           3369         39\n",
            "\n",
            "[5760 rows x 6 columns]\n",
            "      Negara  Provinsi         Kota     Tanggal  Terkonfirmasi  Meninggal\n",
            "44539     US  New York       Albany  2022-03-01          57952        502\n",
            "44540     US  New York     Allegany  2022-03-01           8800        149\n",
            "44541     US  New York        Bronx  2022-03-01         404379       7683\n",
            "44542     US  New York       Broome  2022-03-01          44338        506\n",
            "44543     US  New York  Cattaraugus  2022-03-01          15169        215\n",
            "...      ...       ...          ...         ...            ...        ...\n",
            "52342     US  New York   Washington  2022-06-30          13597        120\n",
            "52343     US  New York        Wayne  2022-06-30          19111        185\n",
            "52344     US  New York  Westchester  2022-06-30         282593       2749\n",
            "52345     US  New York      Wyoming  2022-06-30           9006         85\n",
            "52346     US  New York        Yates  2022-06-30           3848         40\n",
            "\n",
            "[7808 rows x 6 columns]\n",
            "      Negara  Provinsi         Kota     Tanggal  Terkonfirmasi  Meninggal\n",
            "52347     US  New York       Albany  2022-07-01          67546        542\n",
            "52348     US  New York     Allegany  2022-07-01           9625        156\n",
            "52349     US  New York        Bronx  2022-07-01         441155       7817\n",
            "52350     US  New York       Broome  2022-07-01          51000        532\n",
            "52351     US  New York  Cattaraugus  2022-07-01          16868        226\n",
            "...      ...       ...          ...         ...            ...        ...\n",
            "58230     US  New York   Washington  2022-09-30          14536        127\n",
            "58231     US  New York        Wayne  2022-09-30          20323        195\n",
            "58232     US  New York  Westchester  2022-09-30         305607       2828\n",
            "58233     US  New York      Wyoming  2022-09-30           9400         87\n",
            "58234     US  New York        Yates  2022-09-30           4113         40\n",
            "\n",
            "[5888 rows x 6 columns]\n",
            "      Negara  Provinsi         Kota     Tanggal  Terkonfirmasi  Meninggal\n",
            "58235     US  New York       Albany  2022-10-01          72934        556\n",
            "58236     US  New York     Allegany  2022-10-01          10176        162\n",
            "58237     US  New York        Bronx  2022-10-01         487992       8012\n",
            "58238     US  New York       Broome  2022-10-01          54287        553\n",
            "58239     US  New York  Cattaraugus  2022-10-01          18124        236\n",
            "...      ...       ...          ...         ...            ...        ...\n",
            "64118     US  New York   Washington  2022-12-31          15401        136\n",
            "64119     US  New York        Wayne  2022-12-31          21431        201\n",
            "64120     US  New York  Westchester  2022-12-31         326527       2929\n",
            "64121     US  New York      Wyoming  2022-12-31           9785         90\n",
            "64122     US  New York        Yates  2022-12-31           4353         42\n",
            "\n",
            "[5888 rows x 6 columns]\n"
          ]
        }
      ]
    },
    {
      "cell_type": "code",
      "source": [
        "print('Jumlah Kasus Terkonfirmasi Covid-19 Q1 Tahun 2020 : ',data_kuartil_1_2020['Terkonfirmasi'].sum())  #memuat jumlah terkonfirmasi\n",
        "print('Jumlah Kasus Meninggal     Covid-19 Q1 Tahun 2020 : ',data_kuartil_1_2020['Meninggal'].sum())      #memuat jumlah meninggal    \n",
        "print('Jumlah Kasus Terkonfirmasi Covid-19 Q2 Tahun 2020 : ',data_kuartil_2_2020['Terkonfirmasi'].sum())  #memuat jumlah terkonfirmasi\n",
        "print('Jumlah Kasus Meninggal     Covid-19 Q2 Tahun 2020 : ',data_kuartil_2_2020['Meninggal'].sum())      #memuat jumlah meninggal\n",
        "print('Jumlah Kasus Terkonfirmasi Covid-19 Q3 Tahun 2020 : ',data_kuartil_3_2020['Terkonfirmasi'].sum())  #memuat jumlah terkonfirmasi\n",
        "print('Jumlah Kasus Meninggal     Covid-19 Q3 Tahun 2020 : ',data_kuartil_3_2020['Meninggal'].sum())      #memuat jumlah meninggal\n",
        "print('Jumlah Kasus Terkonfirmasi Covid-19 Q4 Tahun 2020 : ',data_kuartil_4_2020['Terkonfirmasi'].sum())  #memuat jumlah terkonfirmasi\n",
        "print('Jumlah Kasus Meninggal     Covid-19 Q4 Tahun 2020 : ',data_kuartil_4_2020['Meninggal'].sum())      #memuat jumlah meninggal"
      ],
      "metadata": {
        "colab": {
          "base_uri": "https://localhost:8080/"
        },
        "id": "ApOqSkJMWKJA",
        "outputId": "a3b02265-995f-4ab3-be00-d2eb9f780891"
      },
      "execution_count": 205,
      "outputs": [
        {
          "output_type": "stream",
          "name": "stdout",
          "text": [
            "Jumlah Kasus Terkonfirmasi Covid-19 Q1 Tahun 2020 :  463465\n",
            "Jumlah Kasus Meninggal     Covid-19 Q1 Tahun 2020 :  6323\n",
            "Jumlah Kasus Terkonfirmasi Covid-19 Q2 Tahun 2020 :  28478781\n",
            "Jumlah Kasus Meninggal     Covid-19 Q2 Tahun 2020 :  2181874\n",
            "Jumlah Kasus Terkonfirmasi Covid-19 Q3 Tahun 2020 :  39121586\n",
            "Jumlah Kasus Meninggal     Covid-19 Q3 Tahun 2020 :  3014494\n",
            "Jumlah Kasus Terkonfirmasi Covid-19 Q4 Tahun 2020 :  57017344\n",
            "Jumlah Kasus Meninggal     Covid-19 Q4 Tahun 2020 :  3173193\n"
          ]
        }
      ]
    },
    {
      "cell_type": "code",
      "source": [
        "print('Jumlah Kasus Terkonfirmasi Covid-19 Q1 Tahun 2020 : ',data_kuartil_1_2020['Terkonfirmasi'].mean()) #memuat rata-rata terkonfirmasi\n",
        "print('Jumlah Kasus Meninggal     Covid-19 Q1 Tahun 2020 : ',data_kuartil_1_2020['Meninggal'].mean())     #memuat rata-rata meninggal\n",
        "print('Jumlah Kasus Terkonfirmasi Covid-19 Q2 Tahun 2020 : ',data_kuartil_2_2020['Terkonfirmasi'].mean()) #memuat rata-rata terkonfirmasi\n",
        "print('Jumlah Kasus Meninggal     Covid-19 Q2 Tahun 2020 : ',data_kuartil_2_2020['Meninggal'].mean())     #memuat rata-rata meninggal\n",
        "print('Jumlah Kasus Terkonfirmasi Covid-19 Q3 Tahun 2020 : ',data_kuartil_3_2020['Terkonfirmasi'].mean()) #memuat rata-rata terkonfirmasi\n",
        "print('Jumlah Kasus Meninggal     Covid-19 Q3 Tahun 2020 : ',data_kuartil_3_2020['Meninggal'].mean())     #memuat rata-rata meninggal\n",
        "print('Jumlah Kasus Terkonfirmasi Covid-19 Q4 Tahun 2020 : ',data_kuartil_4_2020['Terkonfirmasi'].mean()) #memuat rata-rata terkonfirmasi\n",
        "print('Jumlah Kasus Meninggal     Covid-19 Q4 Tahun 2020 : ',data_kuartil_4_2020['Meninggal'].mean())     #memuat rata-rata meninggal"
      ],
      "metadata": {
        "colab": {
          "base_uri": "https://localhost:8080/"
        },
        "id": "lzqP9U3oOZYd",
        "outputId": "9134e539-500e-4819-8a34-6a24c96aa737"
      },
      "execution_count": 261,
      "outputs": [
        {
          "output_type": "stream",
          "name": "stdout",
          "text": [
            "Jumlah Kasus Terkonfirmasi Covid-19 Q1 Tahun 2020 :  728.7185534591194\n",
            "Jumlah Kasus Meninggal     Covid-19 Q1 Tahun 2020 :  9.94182389937107\n",
            "Jumlah Kasus Terkonfirmasi Covid-19 Q2 Tahun 2020 :  5305.287071535023\n",
            "Jumlah Kasus Meninggal     Covid-19 Q2 Tahun 2020 :  406.45938897168406\n",
            "Jumlah Kasus Terkonfirmasi Covid-19 Q3 Tahun 2020 :  7046.395172910663\n",
            "Jumlah Kasus Meninggal     Covid-19 Q3 Tahun 2020 :  542.9564121037464\n",
            "Jumlah Kasus Terkonfirmasi Covid-19 Q4 Tahun 2020 :  9751.555327518385\n",
            "Jumlah Kasus Meninggal     Covid-19 Q4 Tahun 2020 :  542.704463827604\n"
          ]
        }
      ]
    },
    {
      "cell_type": "code",
      "source": [
        "print('Jumlah Kasus Terkonfirmasi Covid-19 Q1 Tahun 2021 : ',data_kuartil_1_2021['Terkonfirmasi'].sum())  #memuat jumlah terkonfirmasi\n",
        "print('Jumlah Kasus Meninggal     Covid-19 Q1 Tahun 2021 : ',data_kuartil_1_2021['Meninggal'].sum())      #memuat jumlah meninggal\n",
        "print('Jumlah Kasus Terkonfirmasi Covid-19 Q2 Tahun 2021 : ',data_kuartil_2_2021['Terkonfirmasi'].sum())  #memuat jumlah terkonfirmasi\n",
        "print('Jumlah Kasus Meninggal     Covid-19 Q2 Tahun 2021 : ',data_kuartil_2_2021['Meninggal'].sum())      #memuat jumlah meninggal\n",
        "print('Jumlah Kasus Terkonfirmasi Covid-19 Q3 Tahun 2021 : ',data_kuartil_3_2021['Terkonfirmasi'].sum())  #memuat jumlah terkonfirmasi\n",
        "print('Jumlah Kasus Meninggal     Covid-19 Q3 Tahun 2021 : ',data_kuartil_3_2021['Meninggal'].sum())      #memuat jumlah meninggal\n",
        "print('Jumlah Kasus Terkonfirmasi Covid-19 Q4 Tahun 2021 : ',data_kuartil_4_2021['Terkonfirmasi'].sum())  #memuat jumlah terkonfirmasi\n",
        "print('Jumlah Kasus Meninggal     Covid-19 Q4 Tahun 2021 : ',data_kuartil_4_2021['Meninggal'].sum())      #memuat jumlah meninggal"
      ],
      "metadata": {
        "colab": {
          "base_uri": "https://localhost:8080/"
        },
        "id": "Lfn50CZuU1kR",
        "outputId": "0b33b97e-cb9d-44a9-fde1-b8f96a6b1be7"
      },
      "execution_count": 100,
      "outputs": [
        {
          "output_type": "stream",
          "name": "stdout",
          "text": [
            "Jumlah Kasus Terkonfirmasi Covid-19 Q1 Tahun 2021 :  135275008\n",
            "Jumlah Kasus Meninggal     Covid-19 Q1 Tahun 2021 :  4070180\n",
            "Jumlah Kasus Terkonfirmasi Covid-19 Q2 Tahun 2021 :  241598908\n",
            "Jumlah Kasus Meninggal     Covid-19 Q2 Tahun 2021 :  6308659\n",
            "Jumlah Kasus Terkonfirmasi Covid-19 Q3 Tahun 2021 :  205124782\n",
            "Jumlah Kasus Meninggal     Covid-19 Q3 Tahun 2021 :  4981008\n",
            "Jumlah Kasus Terkonfirmasi Covid-19 Q4 Tahun 2021 :  248730000\n",
            "Jumlah Kasus Meninggal     Covid-19 Q4 Tahun 2021 :  5255982\n"
          ]
        }
      ]
    },
    {
      "cell_type": "code",
      "source": [
        "print('Jumlah Kasus Terkonfirmasi Covid-19 Q1 Tahun 2021 : ',data_kuartil_1_2021['Terkonfirmasi'].mean()) #memuat rata-rata terkonfirmasi\n",
        "print('Jumlah Kasus Meninggal     Covid-19 Q1 Tahun 2021 : ',data_kuartil_1_2021['Meninggal'].mean())     #memuat rata-rata meninggal\n",
        "print('Jumlah Kasus Terkonfirmasi Covid-19 Q2 Tahun 2021 : ',data_kuartil_2_2021['Terkonfirmasi'].mean()) #memuat rata-rata terkonfirmasi\n",
        "print('Jumlah Kasus Meninggal     Covid-19 Q2 Tahun 2021 : ',data_kuartil_2_2021['Meninggal'].mean())     #memuat rata-rata meninggal\n",
        "print('Jumlah Kasus Terkonfirmasi Covid-19 Q3 Tahun 2021 : ',data_kuartil_3_2021['Terkonfirmasi'].mean()) #memuat rata-rata terkonfirmasi\n",
        "print('Jumlah Kasus Meninggal     Covid-19 Q3 Tahun 2021 : ',data_kuartil_3_2021['Meninggal'].mean())     #memuat rata-rata meninggal\n",
        "print('Jumlah Kasus Terkonfirmasi Covid-19 Q4 Tahun 2021 : ',data_kuartil_4_2021['Terkonfirmasi'].mean()) #memuat rata-rata terkonfirmasi\n",
        "print('Jumlah Kasus Meninggal     Covid-19 Q4 Tahun 2021 : ',data_kuartil_4_2021['Meninggal'].mean())     #memuat rata-rata meninggal"
      ],
      "metadata": {
        "colab": {
          "base_uri": "https://localhost:8080/"
        },
        "id": "tZGFV-lHPJ0G",
        "outputId": "391104c1-7e2a-412f-edfa-03a1fb9cdd4c"
      },
      "execution_count": 262,
      "outputs": [
        {
          "output_type": "stream",
          "name": "stdout",
          "text": [
            "Jumlah Kasus Terkonfirmasi Covid-19 Q1 Tahun 2021 :  23485.244444444445\n",
            "Jumlah Kasus Meninggal     Covid-19 Q1 Tahun 2021 :  706.6284722222222\n",
            "Jumlah Kasus Terkonfirmasi Covid-19 Q2 Tahun 2021 :  30942.483094262294\n",
            "Jumlah Kasus Meninggal     Covid-19 Q2 Tahun 2021 :  807.9737448770492\n",
            "Jumlah Kasus Terkonfirmasi Covid-19 Q3 Tahun 2021 :  34837.768682065216\n",
            "Jumlah Kasus Meninggal     Covid-19 Q3 Tahun 2021 :  845.9592391304348\n",
            "Jumlah Kasus Terkonfirmasi Covid-19 Q4 Tahun 2021 :  42243.546195652176\n",
            "Jumlah Kasus Meninggal     Covid-19 Q4 Tahun 2021 :  892.6599864130435\n"
          ]
        }
      ]
    },
    {
      "cell_type": "code",
      "source": [
        "print('Jumlah Kasus Terkonfirmasi Covid-19 Q1 Tahun 2022 : ',data_kuartil_1_2022['Terkonfirmasi'].sum())  #memuat jumlah terkonfirmasi\n",
        "print('Jumlah Kasus Meninggal     Covid-19 Q1 Tahun 2022 : ',data_kuartil_1_2022['Meninggal'].sum())      #memuat jumlah meninggal\n",
        "print('Jumlah Kasus Terkonfirmasi Covid-19 Q2 Tahun 2022 : ',data_kuartil_2_2022['Terkonfirmasi'].sum())  #memuat jumlah terkonfirmasi\n",
        "print('Jumlah Kasus Meninggal     Covid-19 Q2 Tahun 2022 : ',data_kuartil_2_2022['Meninggal'].sum())      #memuat jumlah meninggal\n",
        "print('Jumlah Kasus Terkonfirmasi Covid-19 Q3 Tahun 2022 : ',data_kuartil_3_2022['Terkonfirmasi'].sum())  #memuat jumlah terkonfirmasi\n",
        "print('Jumlah Kasus Meninggal     Covid-19 Q3 Tahun 2022 : ',data_kuartil_3_2022['Meninggal'].sum())      #memuat jumlah meninggal\n",
        "print('Jumlah Kasus Terkonfirmasi Covid-19 Q4 Tahun 2022 : ',data_kuartil_4_2022['Terkonfirmasi'].sum())  #memuat jumlah terkonfirmasi\n",
        "print('Jumlah Kasus Meninggal     Covid-19 Q4 Tahun 2022 : ',data_kuartil_4_2022['Meninggal'].sum())      #memuat jumlah meninggal"
      ],
      "metadata": {
        "colab": {
          "base_uri": "https://localhost:8080/"
        },
        "id": "PIoZapIqWRtE",
        "outputId": "d6acece2-283a-4fe1-c469-e6008b4c5ce8"
      },
      "execution_count": 101,
      "outputs": [
        {
          "output_type": "stream",
          "name": "stdout",
          "text": [
            "Jumlah Kasus Terkonfirmasi Covid-19 Q1 Tahun 2022 :  425806919\n",
            "Jumlah Kasus Meninggal     Covid-19 Q1 Tahun 2022 :  5885810\n",
            "Jumlah Kasus Terkonfirmasi Covid-19 Q2 Tahun 2022 :  636379340\n",
            "Jumlah Kasus Meninggal     Covid-19 Q2 Tahun 2022 :  8353650\n",
            "Jumlah Kasus Terkonfirmasi Covid-19 Q3 Tahun 2022 :  542242539\n",
            "Jumlah Kasus Meninggal     Covid-19 Q3 Tahun 2022 :  6505714\n",
            "Jumlah Kasus Terkonfirmasi Covid-19 Q4 Tahun 2022 :  582287039\n",
            "Jumlah Kasus Meninggal     Covid-19 Q4 Tahun 2022 :  6760341\n"
          ]
        }
      ]
    },
    {
      "cell_type": "code",
      "source": [
        "print('Jumlah Kasus Terkonfirmasi Covid-19 Q1 Tahun 2022 : ',data_kuartil_1_2022['Terkonfirmasi'].mean()) #memuat rata-rata terkonfirmasi\n",
        "print('Jumlah Kasus Meninggal     Covid-19 Q1 Tahun 2022 : ',data_kuartil_1_2022['Meninggal'].mean())     #memuat rata-rata meninggal\n",
        "print('Jumlah Kasus Terkonfirmasi Covid-19 Q2 Tahun 2022 : ',data_kuartil_2_2022['Terkonfirmasi'].mean()) #memuat rata-rata terkonfirmasi\n",
        "print('Jumlah Kasus Meninggal     Covid-19 Q2 Tahun 2022 : ',data_kuartil_2_2022['Meninggal'].mean())     #memuat rata-rata meninggal\n",
        "print('Jumlah Kasus Terkonfirmasi Covid-19 Q3 Tahun 2022 : ',data_kuartil_3_2022['Terkonfirmasi'].mean()) #memuat rata-rata terkonfirmasi\n",
        "print('Jumlah Kasus Meninggal     Covid-19 Q3 Tahun 2022 : ',data_kuartil_3_2022['Meninggal'].mean())     #memuat rata-rata meninggal\n",
        "print('Jumlah Kasus Terkonfirmasi Covid-19 Q4 Tahun 2022 : ',data_kuartil_4_2022['Terkonfirmasi'].mean()) #memuat rata-rata terkonfirmasi\n",
        "print('Jumlah Kasus Meninggal     Covid-19 Q4 Tahun 2022 : ',data_kuartil_4_2022['Meninggal'].mean())     #memuat rata-rata meninggal"
      ],
      "metadata": {
        "colab": {
          "base_uri": "https://localhost:8080/"
        },
        "id": "ILzdBdwkPWPO",
        "outputId": "c0810656-45f7-4a7b-9603-5cfbc2cd6ecd"
      },
      "execution_count": 263,
      "outputs": [
        {
          "output_type": "stream",
          "name": "stdout",
          "text": [
            "Jumlah Kasus Terkonfirmasi Covid-19 Q1 Tahun 2022 :  73924.81232638888\n",
            "Jumlah Kasus Meninggal     Covid-19 Q1 Tahun 2022 :  1021.8420138888889\n",
            "Jumlah Kasus Terkonfirmasi Covid-19 Q2 Tahun 2022 :  81503.50153688525\n",
            "Jumlah Kasus Meninggal     Covid-19 Q2 Tahun 2022 :  1069.8834528688524\n",
            "Jumlah Kasus Terkonfirmasi Covid-19 Q3 Tahun 2022 :  92092.82252038043\n",
            "Jumlah Kasus Meninggal     Covid-19 Q3 Tahun 2022 :  1104.9106657608695\n",
            "Jumlah Kasus Terkonfirmasi Covid-19 Q4 Tahun 2022 :  98893.85852581522\n",
            "Jumlah Kasus Meninggal     Covid-19 Q4 Tahun 2022 :  1148.1557404891305\n"
          ]
        }
      ]
    },
    {
      "cell_type": "markdown",
      "source": [
        "Mendapatkan data kuartil jumlah, dan rata-rata \"Terkonfirmasi\" dan \"Meninggal\" pada rentang tahun 2020 hingga 2022"
      ],
      "metadata": {
        "id": "cjw3fOixUcE_"
      }
    },
    {
      "cell_type": "code",
      "source": [
        "df_covid = {'Tahun': ['2020','2020','2020','2020','2021','2021','2021','2021','2022','2022','2022','2022'], #membuat tabel untuk data kuartil\n",
        "            'Kuartil': ['Q1','Q2','Q3','Q4','Q1','Q2','Q3','Q4','Q1','Q2','Q3','Q4'],\n",
        "            'Jumlah Terkonfirmasi': [463465, 28478781, 39121586, 57017344, 135275008, 241598908, 205124782, 248730000, 425806919, 636379340, 542242539, 582287039],\n",
        "            'Rata-Rata Terkonfirmasi': [728.71, 5305.28, 7046.39, 9751.55, 23485.24, 30942.48, 34837.76, 42243.54, 73924.81, 81503.50, 92092.82252038043, 98893.85],\n",
        "            'Jumlah Meninggal': [6323, 2181874, 3014494, 3173193, 4070180, 6308659, 4981008, 5255982, 5885810, 8353650, 6505714, 6760341],\n",
        "            'Rata-Rata Meninggal': [9.94, 406.45, 542.95, 542.70, 706.62, 807.97, 845.95, 892.65, 1021.84, 1069.88, 1104.91, 1148.15]\n",
        "}"
      ],
      "metadata": {
        "id": "h64gkIT3d-wE"
      },
      "execution_count": 264,
      "outputs": []
    },
    {
      "cell_type": "code",
      "source": [
        "covid_kuartal = pd.DataFrame(df_covid)\n",
        "covid_kuartal"
      ],
      "metadata": {
        "colab": {
          "base_uri": "https://localhost:8080/",
          "height": 426
        },
        "id": "NDpUkpGRnAMQ",
        "outputId": "43232e9a-35af-4b7f-a241-9ac4239c488a"
      },
      "execution_count": 265,
      "outputs": [
        {
          "output_type": "execute_result",
          "data": {
            "text/plain": [
              "   Tahun Kuartil  Jumlah Terkonfirmasi  Rata-Rata Terkonfirmasi  \\\n",
              "0   2020      Q1                463465                   728.71   \n",
              "1   2020      Q2              28478781                  5305.28   \n",
              "2   2020      Q3              39121586                  7046.39   \n",
              "3   2020      Q4              57017344                  9751.55   \n",
              "4   2021      Q1             135275008                 23485.24   \n",
              "5   2021      Q2             241598908                 30942.48   \n",
              "6   2021      Q3             205124782                 34837.76   \n",
              "7   2021      Q4             248730000                 42243.54   \n",
              "8   2022      Q1             425806919                 73924.81   \n",
              "9   2022      Q2             636379340                 81503.50   \n",
              "10  2022      Q3             542242539                 92092.82   \n",
              "11  2022      Q4             582287039                 98893.85   \n",
              "\n",
              "    Jumlah Meninggal  Rata-Rata Meninggal  \n",
              "0               6323                 9.94  \n",
              "1            2181874               406.45  \n",
              "2            3014494               542.95  \n",
              "3            3173193               542.70  \n",
              "4            4070180               706.62  \n",
              "5            6308659               807.97  \n",
              "6            4981008               845.95  \n",
              "7            5255982               892.65  \n",
              "8            5885810              1021.84  \n",
              "9            8353650              1069.88  \n",
              "10           6505714              1104.91  \n",
              "11           6760341              1148.15  "
            ],
            "text/html": [
              "\n",
              "  <div id=\"df-f4f75abc-e9ca-4afa-aac9-51327f829de0\">\n",
              "    <div class=\"colab-df-container\">\n",
              "      <div>\n",
              "<style scoped>\n",
              "    .dataframe tbody tr th:only-of-type {\n",
              "        vertical-align: middle;\n",
              "    }\n",
              "\n",
              "    .dataframe tbody tr th {\n",
              "        vertical-align: top;\n",
              "    }\n",
              "\n",
              "    .dataframe thead th {\n",
              "        text-align: right;\n",
              "    }\n",
              "</style>\n",
              "<table border=\"1\" class=\"dataframe\">\n",
              "  <thead>\n",
              "    <tr style=\"text-align: right;\">\n",
              "      <th></th>\n",
              "      <th>Tahun</th>\n",
              "      <th>Kuartil</th>\n",
              "      <th>Jumlah Terkonfirmasi</th>\n",
              "      <th>Rata-Rata Terkonfirmasi</th>\n",
              "      <th>Jumlah Meninggal</th>\n",
              "      <th>Rata-Rata Meninggal</th>\n",
              "    </tr>\n",
              "  </thead>\n",
              "  <tbody>\n",
              "    <tr>\n",
              "      <th>0</th>\n",
              "      <td>2020</td>\n",
              "      <td>Q1</td>\n",
              "      <td>463465</td>\n",
              "      <td>728.71</td>\n",
              "      <td>6323</td>\n",
              "      <td>9.94</td>\n",
              "    </tr>\n",
              "    <tr>\n",
              "      <th>1</th>\n",
              "      <td>2020</td>\n",
              "      <td>Q2</td>\n",
              "      <td>28478781</td>\n",
              "      <td>5305.28</td>\n",
              "      <td>2181874</td>\n",
              "      <td>406.45</td>\n",
              "    </tr>\n",
              "    <tr>\n",
              "      <th>2</th>\n",
              "      <td>2020</td>\n",
              "      <td>Q3</td>\n",
              "      <td>39121586</td>\n",
              "      <td>7046.39</td>\n",
              "      <td>3014494</td>\n",
              "      <td>542.95</td>\n",
              "    </tr>\n",
              "    <tr>\n",
              "      <th>3</th>\n",
              "      <td>2020</td>\n",
              "      <td>Q4</td>\n",
              "      <td>57017344</td>\n",
              "      <td>9751.55</td>\n",
              "      <td>3173193</td>\n",
              "      <td>542.70</td>\n",
              "    </tr>\n",
              "    <tr>\n",
              "      <th>4</th>\n",
              "      <td>2021</td>\n",
              "      <td>Q1</td>\n",
              "      <td>135275008</td>\n",
              "      <td>23485.24</td>\n",
              "      <td>4070180</td>\n",
              "      <td>706.62</td>\n",
              "    </tr>\n",
              "    <tr>\n",
              "      <th>5</th>\n",
              "      <td>2021</td>\n",
              "      <td>Q2</td>\n",
              "      <td>241598908</td>\n",
              "      <td>30942.48</td>\n",
              "      <td>6308659</td>\n",
              "      <td>807.97</td>\n",
              "    </tr>\n",
              "    <tr>\n",
              "      <th>6</th>\n",
              "      <td>2021</td>\n",
              "      <td>Q3</td>\n",
              "      <td>205124782</td>\n",
              "      <td>34837.76</td>\n",
              "      <td>4981008</td>\n",
              "      <td>845.95</td>\n",
              "    </tr>\n",
              "    <tr>\n",
              "      <th>7</th>\n",
              "      <td>2021</td>\n",
              "      <td>Q4</td>\n",
              "      <td>248730000</td>\n",
              "      <td>42243.54</td>\n",
              "      <td>5255982</td>\n",
              "      <td>892.65</td>\n",
              "    </tr>\n",
              "    <tr>\n",
              "      <th>8</th>\n",
              "      <td>2022</td>\n",
              "      <td>Q1</td>\n",
              "      <td>425806919</td>\n",
              "      <td>73924.81</td>\n",
              "      <td>5885810</td>\n",
              "      <td>1021.84</td>\n",
              "    </tr>\n",
              "    <tr>\n",
              "      <th>9</th>\n",
              "      <td>2022</td>\n",
              "      <td>Q2</td>\n",
              "      <td>636379340</td>\n",
              "      <td>81503.50</td>\n",
              "      <td>8353650</td>\n",
              "      <td>1069.88</td>\n",
              "    </tr>\n",
              "    <tr>\n",
              "      <th>10</th>\n",
              "      <td>2022</td>\n",
              "      <td>Q3</td>\n",
              "      <td>542242539</td>\n",
              "      <td>92092.82</td>\n",
              "      <td>6505714</td>\n",
              "      <td>1104.91</td>\n",
              "    </tr>\n",
              "    <tr>\n",
              "      <th>11</th>\n",
              "      <td>2022</td>\n",
              "      <td>Q4</td>\n",
              "      <td>582287039</td>\n",
              "      <td>98893.85</td>\n",
              "      <td>6760341</td>\n",
              "      <td>1148.15</td>\n",
              "    </tr>\n",
              "  </tbody>\n",
              "</table>\n",
              "</div>\n",
              "      <button class=\"colab-df-convert\" onclick=\"convertToInteractive('df-f4f75abc-e9ca-4afa-aac9-51327f829de0')\"\n",
              "              title=\"Convert this dataframe to an interactive table.\"\n",
              "              style=\"display:none;\">\n",
              "        \n",
              "  <svg xmlns=\"http://www.w3.org/2000/svg\" height=\"24px\"viewBox=\"0 0 24 24\"\n",
              "       width=\"24px\">\n",
              "    <path d=\"M0 0h24v24H0V0z\" fill=\"none\"/>\n",
              "    <path d=\"M18.56 5.44l.94 2.06.94-2.06 2.06-.94-2.06-.94-.94-2.06-.94 2.06-2.06.94zm-11 1L8.5 8.5l.94-2.06 2.06-.94-2.06-.94L8.5 2.5l-.94 2.06-2.06.94zm10 10l.94 2.06.94-2.06 2.06-.94-2.06-.94-.94-2.06-.94 2.06-2.06.94z\"/><path d=\"M17.41 7.96l-1.37-1.37c-.4-.4-.92-.59-1.43-.59-.52 0-1.04.2-1.43.59L10.3 9.45l-7.72 7.72c-.78.78-.78 2.05 0 2.83L4 21.41c.39.39.9.59 1.41.59.51 0 1.02-.2 1.41-.59l7.78-7.78 2.81-2.81c.8-.78.8-2.07 0-2.86zM5.41 20L4 18.59l7.72-7.72 1.47 1.35L5.41 20z\"/>\n",
              "  </svg>\n",
              "      </button>\n",
              "      \n",
              "  <style>\n",
              "    .colab-df-container {\n",
              "      display:flex;\n",
              "      flex-wrap:wrap;\n",
              "      gap: 12px;\n",
              "    }\n",
              "\n",
              "    .colab-df-convert {\n",
              "      background-color: #E8F0FE;\n",
              "      border: none;\n",
              "      border-radius: 50%;\n",
              "      cursor: pointer;\n",
              "      display: none;\n",
              "      fill: #1967D2;\n",
              "      height: 32px;\n",
              "      padding: 0 0 0 0;\n",
              "      width: 32px;\n",
              "    }\n",
              "\n",
              "    .colab-df-convert:hover {\n",
              "      background-color: #E2EBFA;\n",
              "      box-shadow: 0px 1px 2px rgba(60, 64, 67, 0.3), 0px 1px 3px 1px rgba(60, 64, 67, 0.15);\n",
              "      fill: #174EA6;\n",
              "    }\n",
              "\n",
              "    [theme=dark] .colab-df-convert {\n",
              "      background-color: #3B4455;\n",
              "      fill: #D2E3FC;\n",
              "    }\n",
              "\n",
              "    [theme=dark] .colab-df-convert:hover {\n",
              "      background-color: #434B5C;\n",
              "      box-shadow: 0px 1px 3px 1px rgba(0, 0, 0, 0.15);\n",
              "      filter: drop-shadow(0px 1px 2px rgba(0, 0, 0, 0.3));\n",
              "      fill: #FFFFFF;\n",
              "    }\n",
              "  </style>\n",
              "\n",
              "      <script>\n",
              "        const buttonEl =\n",
              "          document.querySelector('#df-f4f75abc-e9ca-4afa-aac9-51327f829de0 button.colab-df-convert');\n",
              "        buttonEl.style.display =\n",
              "          google.colab.kernel.accessAllowed ? 'block' : 'none';\n",
              "\n",
              "        async function convertToInteractive(key) {\n",
              "          const element = document.querySelector('#df-f4f75abc-e9ca-4afa-aac9-51327f829de0');\n",
              "          const dataTable =\n",
              "            await google.colab.kernel.invokeFunction('convertToInteractive',\n",
              "                                                     [key], {});\n",
              "          if (!dataTable) return;\n",
              "\n",
              "          const docLinkHtml = 'Like what you see? Visit the ' +\n",
              "            '<a target=\"_blank\" href=https://colab.research.google.com/notebooks/data_table.ipynb>data table notebook</a>'\n",
              "            + ' to learn more about interactive tables.';\n",
              "          element.innerHTML = '';\n",
              "          dataTable['output_type'] = 'display_data';\n",
              "          await google.colab.output.renderOutput(dataTable, element);\n",
              "          const docLink = document.createElement('div');\n",
              "          docLink.innerHTML = docLinkHtml;\n",
              "          element.appendChild(docLink);\n",
              "        }\n",
              "      </script>\n",
              "    </div>\n",
              "  </div>\n",
              "  "
            ]
          },
          "metadata": {},
          "execution_count": 265
        }
      ]
    },
    {
      "cell_type": "markdown",
      "source": [
        "## Visualisasi"
      ],
      "metadata": {
        "id": "4aea3V0gbK5U"
      }
    },
    {
      "cell_type": "markdown",
      "source": [
        "Trend jumlah orang terkonfirmasi Covid-19 di Provinsi New York, AS pada tahun 2020 hingga 2022, terlihat terdapat peningkatan sangat signifikan pada jumlah orang terkonfirmasi Covid-19 di Provinsi New York, AS."
      ],
      "metadata": {
        "id": "moUWvESZU6U9"
      }
    },
    {
      "cell_type": "code",
      "source": [
        "covid_kuartal_thn1 = covid_kuartal.groupby(\"Tahun\")['Jumlah Terkonfirmasi'].agg([np.sum])\n",
        "covid_kuartal_thn.plot(title = 'Jumlah Terkonfirmasi Tahun 2020-2022', kind='bar',rot = 0, ylabel = 'Jumlah Terkonfirmasi per ratus juta')"
      ],
      "metadata": {
        "colab": {
          "base_uri": "https://localhost:8080/",
          "height": 313
        },
        "id": "oB7QUfh7Zn5b",
        "outputId": "486f4f73-ef82-4738-f06f-79766a8d2833"
      },
      "execution_count": 270,
      "outputs": [
        {
          "output_type": "execute_result",
          "data": {
            "text/plain": [
              "<matplotlib.axes._subplots.AxesSubplot at 0x7f5d9532f6a0>"
            ]
          },
          "metadata": {},
          "execution_count": 270
        },
        {
          "output_type": "display_data",
          "data": {
            "text/plain": [
              "<Figure size 432x288 with 1 Axes>"
            ],
            "image/png": "[encoded data removed]"
          },
          "metadata": {
            "needs_background": "light"
          }
        }
      ]
    },
    {
      "cell_type": "markdown",
      "source": [
        "Trend jumlah orang terkonfirmasi Covid-19 di Provinsi New York, AS per kuartil pada tahun 2020 hingga 2022, terlihat terdapat peningkatan dan penurunan jumlah orang terkonfirmasi Covid-19 dengan trend meningkat.\n",
        "\n",
        "Peningkatan tertinggi terjadi di Q2 tahun 2020 dengan jumlah terkonfirmasi sebanyak 636.379.340 orang"
      ],
      "metadata": {
        "id": "0ONIo1K0WBF0"
      }
    },
    {
      "cell_type": "code",
      "source": [
        "covid_kuartal.plot(title = 'Jumlah Terkonfirmasi Per Kuartil Tahun 2020-2022',x='Kuartil', y='Jumlah Terkonfirmasi', kind='bar', rot = 0)\t"
      ],
      "metadata": {
        "colab": {
          "base_uri": "https://localhost:8080/",
          "height": 313
        },
        "id": "m-d9l8JOoF8L",
        "outputId": "fbfccc3f-ee22-42aa-8242-0a687eb959b0"
      },
      "execution_count": 240,
      "outputs": [
        {
          "output_type": "execute_result",
          "data": {
            "text/plain": [
              "<matplotlib.axes._subplots.AxesSubplot at 0x7ff1cbb41730>"
            ]
          },
          "metadata": {},
          "execution_count": 240
        },
        {
          "output_type": "display_data",
          "data": {
            "text/plain": [
              "<Figure size 432x288 with 1 Axes>"
            ],
            "image/png": "[encoded data removed]"
          },
          "metadata": {
            "needs_background": "light"
          }
        }
      ]
    },
    {
      "cell_type": "markdown",
      "source": [
        "Pada tahun 2020 terjadi trend kenaikan jumlah terkonfirmasi dengan peningkatan tertinggi terjadi dari Q1 ke Q2."
      ],
      "metadata": {
        "id": "1AJw4aybbmW2"
      }
    },
    {
      "cell_type": "code",
      "source": [
        "covid_kuartal.loc[0:3].plot(title = 'Jumlah Terkonfirmasi Per Kuartil Tahun 2020',x='Kuartil', y='Jumlah Terkonfirmasi', kind='bar', rot = 0)"
      ],
      "metadata": {
        "colab": {
          "base_uri": "https://localhost:8080/",
          "height": 313
        },
        "id": "GBLWLupWuG4V",
        "outputId": "ad9ddcb6-5629-4192-f55a-a9e0aa79e306"
      },
      "execution_count": 239,
      "outputs": [
        {
          "output_type": "execute_result",
          "data": {
            "text/plain": [
              "<matplotlib.axes._subplots.AxesSubplot at 0x7ff1cbb5f610>"
            ]
          },
          "metadata": {},
          "execution_count": 239
        },
        {
          "output_type": "display_data",
          "data": {
            "text/plain": [
              "<Figure size 432x288 with 1 Axes>"
            ],
            "image/png": "[encoded data removed]"
          },
          "metadata": {
            "needs_background": "light"
          }
        }
      ]
    },
    {
      "cell_type": "markdown",
      "source": [
        "Sementara itu pada tahun 2021 terjadi trend kenaikan dan penurunan jumlah terkonfirmasi dengan kenaikan terjadi pada Q1 ke Q2 dan Q3 ke Q4 lalu penurunan terjadi pada Q2 ke Q3."
      ],
      "metadata": {
        "id": "ejwNFeuQcIHM"
      }
    },
    {
      "cell_type": "code",
      "source": [
        "covid_kuartal.loc[4:7].plot(title = 'Jumlah Terkonfirmasi Per Kuartil Tahun 2021',x='Kuartil', y='Jumlah Terkonfirmasi', kind='bar', rot = 0)"
      ],
      "metadata": {
        "colab": {
          "base_uri": "https://localhost:8080/",
          "height": 313
        },
        "id": "aMjh4eFJu7iU",
        "outputId": "bafe3617-06c4-430b-a444-b063af3b06c0"
      },
      "execution_count": 238,
      "outputs": [
        {
          "output_type": "execute_result",
          "data": {
            "text/plain": [
              "<matplotlib.axes._subplots.AxesSubplot at 0x7ff1cbc06dc0>"
            ]
          },
          "metadata": {},
          "execution_count": 238
        },
        {
          "output_type": "display_data",
          "data": {
            "text/plain": [
              "<Figure size 432x288 with 1 Axes>"
            ],
            "image/png": "[encoded data removed]"
          },
          "metadata": {
            "needs_background": "light"
          }
        }
      ]
    },
    {
      "cell_type": "markdown",
      "source": [
        "Situasi yang sama terjadi pada tahun 2022 yaitu terjadi peningkatan dan penurunan jumlah terkonfirmasi dengan peningkatan terjadi pada Q1 ke Q2 dan Q3 ke Q4 dan penurunan pada Q2 ke Q3."
      ],
      "metadata": {
        "id": "EfuMqzd-cwT1"
      }
    },
    {
      "cell_type": "code",
      "source": [
        "covid_kuartal.loc[8:11].plot(title = 'Jumlah Terkonfirmasi Per Kuartil Tahun 2022',x='Kuartil', y='Jumlah Terkonfirmasi', kind='bar', rot = 0)"
      ],
      "metadata": {
        "colab": {
          "base_uri": "https://localhost:8080/",
          "height": 313
        },
        "id": "Cd7zCh4ou9bK",
        "outputId": "1626fcf6-8883-4c5c-a442-eabc29dc5805"
      },
      "execution_count": 237,
      "outputs": [
        {
          "output_type": "execute_result",
          "data": {
            "text/plain": [
              "<matplotlib.axes._subplots.AxesSubplot at 0x7ff1cbc1a0a0>"
            ]
          },
          "metadata": {},
          "execution_count": 237
        },
        {
          "output_type": "display_data",
          "data": {
            "text/plain": [
              "<Figure size 432x288 with 1 Axes>"
            ],
            "image/png": "[encoded data removed]"
          },
          "metadata": {
            "needs_background": "light"
          }
        }
      ]
    },
    {
      "cell_type": "markdown",
      "source": [
        "Trend jumlah orang meninggal Covid-19 di Provinsi New York, AS pada tahun 2020 hingga 2022, terlihat terdapat peningkatan jumlah orang meninggal Covid-19 di Provinsi New York, AS dengan jumlah tertinggi terjadi di tahun 2022 dan terendah di tahun 2020."
      ],
      "metadata": {
        "id": "tHJ8RmModDlZ"
      }
    },
    {
      "cell_type": "code",
      "source": [
        "covid_kuartal_thn = covid_kuartal.groupby(\"Tahun\")['Jumlah Meninggal'].agg([np.sum])\n",
        "covid_kuartal_thn.plot(title = 'Jumlah Meninggal Tahun 2020-2022', kind='bar',rot = 0, ylabel = 'Jumlah Meninggal per juta')"
      ],
      "metadata": {
        "colab": {
          "base_uri": "https://localhost:8080/",
          "height": 313
        },
        "id": "NZqymxEjeIxl",
        "outputId": "7042f97a-aa98-49fe-9542-693ee81b37d7"
      },
      "execution_count": 271,
      "outputs": [
        {
          "output_type": "execute_result",
          "data": {
            "text/plain": [
              "<matplotlib.axes._subplots.AxesSubplot at 0x7f5d953febe0>"
            ]
          },
          "metadata": {},
          "execution_count": 271
        },
        {
          "output_type": "display_data",
          "data": {
            "text/plain": [
              "<Figure size 432x288 with 1 Axes>"
            ],
            "image/png": "[encoded data removed]"
          },
          "metadata": {
            "needs_background": "light"
          }
        }
      ]
    },
    {
      "cell_type": "markdown",
      "source": [
        "Pada tahun 2020 terjadi peningkatan jumlah meninggal dengan peningkatan signifikan terjadi pada Q1 ke Q2."
      ],
      "metadata": {
        "id": "i-EOFJGOeewS"
      }
    },
    {
      "cell_type": "code",
      "source": [
        "covid_kuartal.loc[0:3].plot(title = 'Jumlah Meninggal Per Kuartil Tahun 2020',x='Kuartil', y='Jumlah Meninggal', kind='bar',rot = 0)"
      ],
      "metadata": {
        "colab": {
          "base_uri": "https://localhost:8080/",
          "height": 313
        },
        "id": "SSp7JHoJzIEb",
        "outputId": "84587ba6-6a49-42a0-8339-51d8bfcbe3f4"
      },
      "execution_count": 275,
      "outputs": [
        {
          "output_type": "execute_result",
          "data": {
            "text/plain": [
              "<matplotlib.axes._subplots.AxesSubplot at 0x7ff1cb224be0>"
            ]
          },
          "metadata": {},
          "execution_count": 275
        },
        {
          "output_type": "display_data",
          "data": {
            "text/plain": [
              "<Figure size 432x288 with 1 Axes>"
            ],
            "image/png": "[encoded data removed]"
          },
          "metadata": {
            "needs_background": "light"
          }
        }
      ]
    },
    {
      "cell_type": "markdown",
      "source": [
        "Pada tahun 2021 terjadi peningkatan dan penurunan trend jumlah meninggal dimana trend jumlah tertinggi terjadi pada Q2."
      ],
      "metadata": {
        "id": "kbMElR4We4r4"
      }
    },
    {
      "cell_type": "code",
      "source": [
        "covid_kuartal.loc[4:7].plot(title = 'Jumlah Meninggal Per Kuartil Tahun 2021',x='Kuartil', y='Jumlah Meninggal', kind='bar',rot = 0)"
      ],
      "metadata": {
        "colab": {
          "base_uri": "https://localhost:8080/",
          "height": 313
        },
        "id": "B9fzbtmN091R",
        "outputId": "70e49254-a610-4d86-fd1b-7b24aa0df55a"
      },
      "execution_count": 276,
      "outputs": [
        {
          "output_type": "execute_result",
          "data": {
            "text/plain": [
              "<matplotlib.axes._subplots.AxesSubplot at 0x7ff1cb202520>"
            ]
          },
          "metadata": {},
          "execution_count": 276
        },
        {
          "output_type": "display_data",
          "data": {
            "text/plain": [
              "<Figure size 432x288 with 1 Axes>"
            ],
            "image/png": "[encoded data removed]"
          },
          "metadata": {
            "needs_background": "light"
          }
        }
      ]
    },
    {
      "cell_type": "markdown",
      "source": [
        "Pada tahun 2022 terjadi naik turun trend cenderung meningkat."
      ],
      "metadata": {
        "id": "po45bfB6gxqF"
      }
    },
    {
      "cell_type": "code",
      "source": [
        "covid_kuartal.loc[8:11].plot(title = 'Jumlah Meninggal Per Kuartil Tahun 2022',x='Kuartil', y='Jumlah Meninggal', kind='bar',rot = 0)"
      ],
      "metadata": {
        "colab": {
          "base_uri": "https://localhost:8080/",
          "height": 313
        },
        "id": "iKtgd4Hf0_sb",
        "outputId": "90377dd8-2037-420c-e3c8-007410442abe"
      },
      "execution_count": 277,
      "outputs": [
        {
          "output_type": "execute_result",
          "data": {
            "text/plain": [
              "<matplotlib.axes._subplots.AxesSubplot at 0x7ff1cb2cb070>"
            ]
          },
          "metadata": {},
          "execution_count": 277
        },
        {
          "output_type": "display_data",
          "data": {
            "text/plain": [
              "<Figure size 432x288 with 1 Axes>"
            ],
            "image/png": "[encoded data removed]"
          },
          "metadata": {
            "needs_background": "light"
          }
        }
      ]
    },
    {
      "cell_type": "markdown",
      "source": [
        "### Conclusion, Assumsions, Overall Analysis\n",
        "\n",
        "**Kesimpulan**\n",
        "- Terjadi peningkatan Trend jumlah orang terkonfirmasi Covid-19 di Provinsi New York, AS dengan peningkatan signifikan terjadi pada 2021. Sementara itu, trend peningkatan juga terjadi pada jumlah meninggal dengan peningkatan signifkan terjadi pada tahun 2021.\n",
        "\n",
        "- Trend jumlah orang terkonfirmasi Covid-19 di Provinsi New York, AS per kuartil pada tahun 2020 hingga 2022, terlihat terdapat peningkatan dan penurunan jumlah orang terkonfirmasi Covid-19 dengan trend meningkat.\n",
        "Peningkatan tertinggi terjadi di Q2 tahun 2020. Sementara itu, trend jumlah orang meninggal Covid-19 di Provinsi New York, AS pada tahun 2020 hingga 2022, terlihat terdapat peningkatan jumlah orang meninggal Covid-19 di Provinsi New York, AS dengan jumlah tertinggi terjadi di tahun 2022 dan terendah di tahun 2020.\n",
        "\n",
        "**Asumsi**\n",
        "- Terjadinya peningkatan trend yang signifikan pada tahun 2021 kemungkinan terjadi karena pada tahun 2021 terdapat beberapa varian virus COVID-19 yang tersebar dan pada tahun tersebut mayoritas penduduk masih belum tervaksin.\n",
        "- Tingginya tingkat infektivitas terjadi karena Provinsi New York merupakan salah satu Provinsi dengan penduduk terbanyak di Amerika Serikat.\n",
        "- Terjadinya naik turun trend disebabkan oleh penyebaran varian-varian baru virus COVID-19 di Amerika Serikat dan peningkatan imunitas penduduk Amerika Serikat.\n",
        "\n",
        "**Overall Analysis**\n",
        "- Bahwa terjadi peningkatan yang signifikan terhadap jumlah orang yang terkonfirmasi dan orang meninggal di Provinsi New York, AS tahun 2020 hingga tahun 2022."
      ],
      "metadata": {
        "id": "Qsb9JoMLh3y-"
      }
    }
  ]
}